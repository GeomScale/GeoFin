{
 "cells": [
  {
   "cell_type": "code",
   "execution_count": 1,
   "metadata": {},
   "outputs": [
    {
     "name": "stderr",
     "output_type": "stream",
     "text": [
      "2024-08-11 14:19:09.164865: E external/local_xla/xla/stream_executor/cuda/cuda_fft.cc:485] Unable to register cuFFT factory: Attempting to register factory for plugin cuFFT when one has already been registered\n",
      "2024-08-11 14:19:09.227944: E external/local_xla/xla/stream_executor/cuda/cuda_dnn.cc:8454] Unable to register cuDNN factory: Attempting to register factory for plugin cuDNN when one has already been registered\n",
      "2024-08-11 14:19:09.245360: E external/local_xla/xla/stream_executor/cuda/cuda_blas.cc:1452] Unable to register cuBLAS factory: Attempting to register factory for plugin cuBLAS when one has already been registered\n",
      "2024-08-11 14:19:09.353630: I tensorflow/core/platform/cpu_feature_guard.cc:210] This TensorFlow binary is optimized to use available CPU instructions in performance-critical operations.\n",
      "To enable the following instructions: AVX2 FMA, in other operations, rebuild TensorFlow with the appropriate compiler flags.\n",
      "2024-08-11 14:19:11.002007: W tensorflow/compiler/tf2tensorrt/utils/py_utils.cc:38] TF-TRT Warning: Could not find TensorRT\n"
     ]
    },
    {
     "name": "stdout",
     "output_type": "stream",
     "text": [
      "Historical daily returns of 24 stocks from 1999-01-01 00:00:00 to 2023-04-18 00:00:00\n"
     ]
    }
   ],
   "source": [
    "import numpy as np\n",
    "import pandas as pd\n",
    "import matplotlib.pyplot as plt\n",
    "from datetime import datetime\n",
    "from tensorflow.keras.models import Sequential\n",
    "from tensorflow.keras.layers import Dense, LSTM, Dropout\n",
    "from sklearn.preprocessing import MinMaxScaler\n",
    "from sklearn.metrics import mean_squared_error, mean_absolute_error\n",
    "from sklearn.model_selection import train_test_split\n",
    "from keras.callbacks import EarlyStopping\n",
    "from tensorflow.keras.optimizers import Adam, SGD\n",
    "import tensorflow as tf\n",
    "# Read and preprocess the dataset\n",
    "\n",
    "path = '../data/'  # Change this to your path\n",
    "# return_series = pd.read_parquet(f'{path}usa_returns.parquet')\n",
    "return_series = pd.read_csv('../data/msci_country_indices.csv', sep= \";\", index_col=0 )\n",
    "return_series.index = pd.to_datetime(return_series.index)\n",
    "return_series_monthly = np.exp(np.log(1 + return_series).resample('M').sum()) - 1\n",
    "\n",
    "from sklearn.preprocessing import StandardScaler\n",
    "scaler = StandardScaler()\n",
    "scaler.fit(return_series)\n",
    "return_series_scaled = pd.DataFrame(scaler.transform(return_series),\n",
    "                                    columns= return_series.columns,\n",
    "                                    index= return_series.index)\n",
    "num_stocks= return_series_scaled.shape[1]\n",
    "print(f\"Historical daily returns of {return_series.shape[1]} stocks from {return_series.head(1).index[0]} to {return_series.tail(1).index[0]}\")"
   ]
  },
  {
   "cell_type": "code",
   "execution_count": 23,
   "metadata": {},
   "outputs": [
    {
     "name": "stdout",
     "output_type": "stream",
     "text": [
      "train_enddate = 2023-04-17 00:00:00\n"
     ]
    }
   ],
   "source": [
    "width = 100 #days\n",
    "rebdate = return_series.index[width]\n",
    "X_train = []\n",
    "y_train = []\n",
    "train_enddate = return_series.tail(width +1).index[-2]\n",
    "print(f\"train_enddate = {train_enddate}\")\n",
    "step_day = 1\n",
    "\n",
    "while rebdate < train_enddate:  # num_shape needs to be defined\n",
    "    X_train_ = return_series[return_series.index < rebdate].tail(width).values.reshape((num_stocks,width))  # train_scaled should be defined\n",
    "    X_train.append(X_train_)\n",
    "    y_train.append(return_series[return_series.index >= rebdate].head(1).values[0])\n",
    "    rebdate += pd.DateOffset(days=step_day)\n",
    "X_train = np.stack(X_train)\n",
    "y_train = np.stack(y_train)"
   ]
  },
  {
   "cell_type": "code",
   "execution_count": 24,
   "metadata": {},
   "outputs": [
    {
     "data": {
      "text/plain": [
       "((8732, 24, 100), (8732, 24))"
      ]
     },
     "execution_count": 24,
     "metadata": {},
     "output_type": "execute_result"
    }
   ],
   "source": [
    "X_train.shape, y_train.shape"
   ]
  },
  {
   "cell_type": "markdown",
   "metadata": {},
   "source": [
    "### Dataset description \n",
    "\n",
    "For training dataset: 6815 time slices with length of 100 days "
   ]
  },
  {
   "cell_type": "code",
   "execution_count": 68,
   "metadata": {},
   "outputs": [
    {
     "name": "stderr",
     "output_type": "stream",
     "text": [
      "/home/akaboshi/anaconda3/lib/python3.11/site-packages/keras/src/layers/rnn/rnn.py:204: UserWarning: Do not pass an `input_shape`/`input_dim` argument to a layer. When using Sequential models, prefer using an `Input(shape)` object as the first layer in the model instead.\n",
      "  super().__init__(**kwargs)\n"
     ]
    },
    {
     "data": {
      "text/html": [
       "<pre style=\"white-space:pre;overflow-x:auto;line-height:normal;font-family:Menlo,'DejaVu Sans Mono',consolas,'Courier New',monospace\"><span style=\"font-weight: bold\">Model: \"sequential_17\"</span>\n",
       "</pre>\n"
      ],
      "text/plain": [
       "\u001b[1mModel: \"sequential_17\"\u001b[0m\n"
      ]
     },
     "metadata": {},
     "output_type": "display_data"
    },
    {
     "data": {
      "text/html": [
       "<pre style=\"white-space:pre;overflow-x:auto;line-height:normal;font-family:Menlo,'DejaVu Sans Mono',consolas,'Courier New',monospace\">┏━━━━━━━━━━━━━━━━━━━━━━━━━━━━━━━━━┳━━━━━━━━━━━━━━━━━━━━━━━━┳━━━━━━━━━━━━━━━┓\n",
       "┃<span style=\"font-weight: bold\"> Layer (type)                    </span>┃<span style=\"font-weight: bold\"> Output Shape           </span>┃<span style=\"font-weight: bold\">       Param # </span>┃\n",
       "┡━━━━━━━━━━━━━━━━━━━━━━━━━━━━━━━━━╇━━━━━━━━━━━━━━━━━━━━━━━━╇━━━━━━━━━━━━━━━┩\n",
       "│ lstm_30 (<span style=\"color: #0087ff; text-decoration-color: #0087ff\">LSTM</span>)                  │ (<span style=\"color: #00d7ff; text-decoration-color: #00d7ff\">None</span>, <span style=\"color: #00af00; text-decoration-color: #00af00\">32</span>)             │        <span style=\"color: #00af00; text-decoration-color: #00af00\">17,024</span> │\n",
       "├─────────────────────────────────┼────────────────────────┼───────────────┤\n",
       "│ dropout_23 (<span style=\"color: #0087ff; text-decoration-color: #0087ff\">Dropout</span>)            │ (<span style=\"color: #00d7ff; text-decoration-color: #00d7ff\">None</span>, <span style=\"color: #00af00; text-decoration-color: #00af00\">32</span>)             │             <span style=\"color: #00af00; text-decoration-color: #00af00\">0</span> │\n",
       "├─────────────────────────────────┼────────────────────────┼───────────────┤\n",
       "│ dense_16 (<span style=\"color: #0087ff; text-decoration-color: #0087ff\">Dense</span>)                │ (<span style=\"color: #00d7ff; text-decoration-color: #00d7ff\">None</span>, <span style=\"color: #00af00; text-decoration-color: #00af00\">24</span>)             │           <span style=\"color: #00af00; text-decoration-color: #00af00\">792</span> │\n",
       "└─────────────────────────────────┴────────────────────────┴───────────────┘\n",
       "</pre>\n"
      ],
      "text/plain": [
       "┏━━━━━━━━━━━━━━━━━━━━━━━━━━━━━━━━━┳━━━━━━━━━━━━━━━━━━━━━━━━┳━━━━━━━━━━━━━━━┓\n",
       "┃\u001b[1m \u001b[0m\u001b[1mLayer (type)                   \u001b[0m\u001b[1m \u001b[0m┃\u001b[1m \u001b[0m\u001b[1mOutput Shape          \u001b[0m\u001b[1m \u001b[0m┃\u001b[1m \u001b[0m\u001b[1m      Param #\u001b[0m\u001b[1m \u001b[0m┃\n",
       "┡━━━━━━━━━━━━━━━━━━━━━━━━━━━━━━━━━╇━━━━━━━━━━━━━━━━━━━━━━━━╇━━━━━━━━━━━━━━━┩\n",
       "│ lstm_30 (\u001b[38;5;33mLSTM\u001b[0m)                  │ (\u001b[38;5;45mNone\u001b[0m, \u001b[38;5;34m32\u001b[0m)             │        \u001b[38;5;34m17,024\u001b[0m │\n",
       "├─────────────────────────────────┼────────────────────────┼───────────────┤\n",
       "│ dropout_23 (\u001b[38;5;33mDropout\u001b[0m)            │ (\u001b[38;5;45mNone\u001b[0m, \u001b[38;5;34m32\u001b[0m)             │             \u001b[38;5;34m0\u001b[0m │\n",
       "├─────────────────────────────────┼────────────────────────┼───────────────┤\n",
       "│ dense_16 (\u001b[38;5;33mDense\u001b[0m)                │ (\u001b[38;5;45mNone\u001b[0m, \u001b[38;5;34m24\u001b[0m)             │           \u001b[38;5;34m792\u001b[0m │\n",
       "└─────────────────────────────────┴────────────────────────┴───────────────┘\n"
      ]
     },
     "metadata": {},
     "output_type": "display_data"
    },
    {
     "data": {
      "text/html": [
       "<pre style=\"white-space:pre;overflow-x:auto;line-height:normal;font-family:Menlo,'DejaVu Sans Mono',consolas,'Courier New',monospace\"><span style=\"font-weight: bold\"> Total params: </span><span style=\"color: #00af00; text-decoration-color: #00af00\">17,816</span> (69.59 KB)\n",
       "</pre>\n"
      ],
      "text/plain": [
       "\u001b[1m Total params: \u001b[0m\u001b[38;5;34m17,816\u001b[0m (69.59 KB)\n"
      ]
     },
     "metadata": {},
     "output_type": "display_data"
    },
    {
     "data": {
      "text/html": [
       "<pre style=\"white-space:pre;overflow-x:auto;line-height:normal;font-family:Menlo,'DejaVu Sans Mono',consolas,'Courier New',monospace\"><span style=\"font-weight: bold\"> Trainable params: </span><span style=\"color: #00af00; text-decoration-color: #00af00\">17,816</span> (69.59 KB)\n",
       "</pre>\n"
      ],
      "text/plain": [
       "\u001b[1m Trainable params: \u001b[0m\u001b[38;5;34m17,816\u001b[0m (69.59 KB)\n"
      ]
     },
     "metadata": {},
     "output_type": "display_data"
    },
    {
     "data": {
      "text/html": [
       "<pre style=\"white-space:pre;overflow-x:auto;line-height:normal;font-family:Menlo,'DejaVu Sans Mono',consolas,'Courier New',monospace\"><span style=\"font-weight: bold\"> Non-trainable params: </span><span style=\"color: #00af00; text-decoration-color: #00af00\">0</span> (0.00 B)\n",
       "</pre>\n"
      ],
      "text/plain": [
       "\u001b[1m Non-trainable params: \u001b[0m\u001b[38;5;34m0\u001b[0m (0.00 B)\n"
      ]
     },
     "metadata": {},
     "output_type": "display_data"
    }
   ],
   "source": [
    "# Initialize the Recurrent Neural Network (RNN) model\n",
    "\n",
    "# create and fit the LSTM network\n",
    "model = Sequential()\n",
    "model.add(LSTM(32, activation= \"relu\", input_shape=(num_stocks,width),return_sequences=False))\n",
    "model.add(Dropout(0.2))\n",
    "model.add(Dense(num_stocks))\n",
    "model.compile(loss='mean_squared_error', optimizer='adam')\n",
    "model.summary()\n",
    "model.compile(optimizer='adam', loss='mean_squared_error', metrics=[tf.keras.metrics.MeanAbsoluteError(),tf.keras.metrics.RootMeanSquaredError()])"
   ]
  },
  {
   "cell_type": "code",
   "execution_count": 69,
   "metadata": {},
   "outputs": [
    {
     "name": "stdout",
     "output_type": "stream",
     "text": [
      "Epoch 1/100\n",
      "273/273 - 7s - 26ms/step - loss: 2.0342e-04 - mean_absolute_error: 0.0095 - root_mean_squared_error: 0.0143\n",
      "Epoch 2/100\n",
      "273/273 - 1s - 4ms/step - loss: 1.9959e-04 - mean_absolute_error: 0.0094 - root_mean_squared_error: 0.0141\n",
      "Epoch 3/100\n",
      "273/273 - 1s - 4ms/step - loss: 1.9786e-04 - mean_absolute_error: 0.0093 - root_mean_squared_error: 0.0141\n",
      "Epoch 4/100\n",
      "273/273 - 1s - 4ms/step - loss: 1.9550e-04 - mean_absolute_error: 0.0093 - root_mean_squared_error: 0.0140\n",
      "Epoch 5/100\n",
      "273/273 - 1s - 4ms/step - loss: 1.9146e-04 - mean_absolute_error: 0.0093 - root_mean_squared_error: 0.0138\n",
      "Epoch 6/100\n",
      "273/273 - 1s - 5ms/step - loss: 1.8837e-04 - mean_absolute_error: 0.0092 - root_mean_squared_error: 0.0137\n",
      "Epoch 7/100\n",
      "273/273 - 1s - 4ms/step - loss: 1.8365e-04 - mean_absolute_error: 0.0092 - root_mean_squared_error: 0.0136\n",
      "Epoch 8/100\n",
      "273/273 - 1s - 4ms/step - loss: 1.7908e-04 - mean_absolute_error: 0.0091 - root_mean_squared_error: 0.0134\n",
      "Epoch 9/100\n",
      "273/273 - 1s - 4ms/step - loss: 1.7782e-04 - mean_absolute_error: 0.0091 - root_mean_squared_error: 0.0133\n",
      "Epoch 10/100\n",
      "273/273 - 1s - 4ms/step - loss: 1.7505e-04 - mean_absolute_error: 0.0091 - root_mean_squared_error: 0.0132\n",
      "Epoch 11/100\n",
      "273/273 - 1s - 4ms/step - loss: 1.7297e-04 - mean_absolute_error: 0.0090 - root_mean_squared_error: 0.0132\n",
      "Epoch 12/100\n",
      "273/273 - 1s - 4ms/step - loss: 1.6998e-04 - mean_absolute_error: 0.0090 - root_mean_squared_error: 0.0130\n",
      "Epoch 13/100\n",
      "273/273 - 1s - 4ms/step - loss: 1.6896e-04 - mean_absolute_error: 0.0089 - root_mean_squared_error: 0.0130\n",
      "Epoch 14/100\n",
      "273/273 - 1s - 4ms/step - loss: 1.6692e-04 - mean_absolute_error: 0.0089 - root_mean_squared_error: 0.0129\n",
      "Epoch 15/100\n",
      "273/273 - 1s - 4ms/step - loss: 1.6367e-04 - mean_absolute_error: 0.0088 - root_mean_squared_error: 0.0128\n",
      "Epoch 16/100\n",
      "273/273 - 1s - 4ms/step - loss: 1.6339e-04 - mean_absolute_error: 0.0088 - root_mean_squared_error: 0.0128\n",
      "Epoch 17/100\n",
      "273/273 - 1s - 4ms/step - loss: 1.6239e-04 - mean_absolute_error: 0.0088 - root_mean_squared_error: 0.0127\n",
      "Epoch 18/100\n",
      "273/273 - 1s - 4ms/step - loss: 1.6035e-04 - mean_absolute_error: 0.0088 - root_mean_squared_error: 0.0127\n",
      "Epoch 19/100\n",
      "273/273 - 1s - 4ms/step - loss: 1.5817e-04 - mean_absolute_error: 0.0087 - root_mean_squared_error: 0.0126\n",
      "Epoch 20/100\n",
      "273/273 - 1s - 4ms/step - loss: 1.5761e-04 - mean_absolute_error: 0.0087 - root_mean_squared_error: 0.0126\n",
      "Epoch 21/100\n",
      "273/273 - 1s - 4ms/step - loss: 1.5519e-04 - mean_absolute_error: 0.0087 - root_mean_squared_error: 0.0125\n",
      "Epoch 22/100\n",
      "273/273 - 1s - 4ms/step - loss: 1.5555e-04 - mean_absolute_error: 0.0087 - root_mean_squared_error: 0.0125\n",
      "Epoch 23/100\n",
      "273/273 - 1s - 4ms/step - loss: 1.5336e-04 - mean_absolute_error: 0.0086 - root_mean_squared_error: 0.0124\n",
      "Epoch 24/100\n",
      "273/273 - 1s - 4ms/step - loss: 1.5248e-04 - mean_absolute_error: 0.0087 - root_mean_squared_error: 0.0123\n",
      "Epoch 25/100\n",
      "273/273 - 1s - 4ms/step - loss: 1.5271e-04 - mean_absolute_error: 0.0086 - root_mean_squared_error: 0.0124\n",
      "Epoch 26/100\n",
      "273/273 - 1s - 4ms/step - loss: 1.5210e-04 - mean_absolute_error: 0.0086 - root_mean_squared_error: 0.0123\n",
      "Epoch 27/100\n",
      "273/273 - 1s - 4ms/step - loss: 1.5133e-04 - mean_absolute_error: 0.0086 - root_mean_squared_error: 0.0123\n",
      "Epoch 28/100\n",
      "273/273 - 1s - 4ms/step - loss: 1.4971e-04 - mean_absolute_error: 0.0086 - root_mean_squared_error: 0.0122\n",
      "Epoch 29/100\n",
      "273/273 - 1s - 4ms/step - loss: 1.4788e-04 - mean_absolute_error: 0.0085 - root_mean_squared_error: 0.0122\n",
      "Epoch 30/100\n",
      "273/273 - 1s - 4ms/step - loss: 1.4626e-04 - mean_absolute_error: 0.0085 - root_mean_squared_error: 0.0121\n",
      "Epoch 31/100\n",
      "273/273 - 1s - 4ms/step - loss: 1.4741e-04 - mean_absolute_error: 0.0085 - root_mean_squared_error: 0.0121\n",
      "Epoch 32/100\n",
      "273/273 - 1s - 4ms/step - loss: 1.4633e-04 - mean_absolute_error: 0.0085 - root_mean_squared_error: 0.0121\n",
      "Epoch 33/100\n",
      "273/273 - 1s - 4ms/step - loss: 1.4397e-04 - mean_absolute_error: 0.0084 - root_mean_squared_error: 0.0120\n",
      "Epoch 34/100\n",
      "273/273 - 1s - 4ms/step - loss: 1.4502e-04 - mean_absolute_error: 0.0085 - root_mean_squared_error: 0.0120\n",
      "Epoch 35/100\n",
      "273/273 - 1s - 4ms/step - loss: 1.4378e-04 - mean_absolute_error: 0.0084 - root_mean_squared_error: 0.0120\n",
      "Epoch 36/100\n",
      "273/273 - 1s - 4ms/step - loss: 1.4463e-04 - mean_absolute_error: 0.0084 - root_mean_squared_error: 0.0120\n",
      "Epoch 37/100\n",
      "273/273 - 1s - 4ms/step - loss: 1.4244e-04 - mean_absolute_error: 0.0084 - root_mean_squared_error: 0.0119\n",
      "Epoch 38/100\n",
      "273/273 - 1s - 4ms/step - loss: 1.4216e-04 - mean_absolute_error: 0.0084 - root_mean_squared_error: 0.0119\n",
      "Epoch 39/100\n",
      "273/273 - 1s - 4ms/step - loss: 1.4439e-04 - mean_absolute_error: 0.0084 - root_mean_squared_error: 0.0120\n",
      "Epoch 40/100\n",
      "273/273 - 1s - 4ms/step - loss: 1.4260e-04 - mean_absolute_error: 0.0084 - root_mean_squared_error: 0.0119\n",
      "Epoch 41/100\n",
      "273/273 - 1s - 4ms/step - loss: 1.4142e-04 - mean_absolute_error: 0.0084 - root_mean_squared_error: 0.0119\n",
      "Epoch 42/100\n",
      "273/273 - 1s - 4ms/step - loss: 1.4188e-04 - mean_absolute_error: 0.0084 - root_mean_squared_error: 0.0119\n",
      "Epoch 43/100\n",
      "273/273 - 1s - 4ms/step - loss: 1.4160e-04 - mean_absolute_error: 0.0084 - root_mean_squared_error: 0.0119\n",
      "Epoch 44/100\n",
      "273/273 - 1s - 4ms/step - loss: 1.3908e-04 - mean_absolute_error: 0.0083 - root_mean_squared_error: 0.0118\n",
      "Epoch 45/100\n",
      "273/273 - 1s - 4ms/step - loss: 1.4067e-04 - mean_absolute_error: 0.0083 - root_mean_squared_error: 0.0119\n",
      "Epoch 46/100\n",
      "273/273 - 1s - 4ms/step - loss: 1.3917e-04 - mean_absolute_error: 0.0083 - root_mean_squared_error: 0.0118\n",
      "Epoch 47/100\n",
      "273/273 - 1s - 4ms/step - loss: 1.3880e-04 - mean_absolute_error: 0.0083 - root_mean_squared_error: 0.0118\n",
      "Epoch 48/100\n",
      "273/273 - 1s - 4ms/step - loss: 1.3886e-04 - mean_absolute_error: 0.0083 - root_mean_squared_error: 0.0118\n",
      "Epoch 49/100\n",
      "273/273 - 1s - 4ms/step - loss: 1.3963e-04 - mean_absolute_error: 0.0083 - root_mean_squared_error: 0.0118\n",
      "Epoch 50/100\n",
      "273/273 - 1s - 4ms/step - loss: 1.3928e-04 - mean_absolute_error: 0.0083 - root_mean_squared_error: 0.0118\n",
      "Epoch 51/100\n",
      "273/273 - 1s - 4ms/step - loss: 1.3811e-04 - mean_absolute_error: 0.0083 - root_mean_squared_error: 0.0118\n",
      "Epoch 52/100\n",
      "273/273 - 1s - 4ms/step - loss: 1.3845e-04 - mean_absolute_error: 0.0083 - root_mean_squared_error: 0.0118\n",
      "Epoch 53/100\n",
      "273/273 - 1s - 4ms/step - loss: 1.3627e-04 - mean_absolute_error: 0.0082 - root_mean_squared_error: 0.0117\n",
      "Epoch 54/100\n",
      "273/273 - 1s - 4ms/step - loss: 1.3676e-04 - mean_absolute_error: 0.0082 - root_mean_squared_error: 0.0117\n",
      "Epoch 55/100\n",
      "273/273 - 1s - 4ms/step - loss: 1.3322e-04 - mean_absolute_error: 0.0082 - root_mean_squared_error: 0.0115\n",
      "Epoch 56/100\n",
      "273/273 - 1s - 4ms/step - loss: 1.3652e-04 - mean_absolute_error: 0.0082 - root_mean_squared_error: 0.0117\n",
      "Epoch 57/100\n",
      "273/273 - 1s - 4ms/step - loss: 1.3632e-04 - mean_absolute_error: 0.0082 - root_mean_squared_error: 0.0117\n",
      "Epoch 58/100\n",
      "273/273 - 1s - 4ms/step - loss: 1.3691e-04 - mean_absolute_error: 0.0082 - root_mean_squared_error: 0.0117\n",
      "Epoch 59/100\n",
      "273/273 - 1s - 4ms/step - loss: 1.3562e-04 - mean_absolute_error: 0.0082 - root_mean_squared_error: 0.0116\n",
      "Epoch 60/100\n",
      "273/273 - 1s - 4ms/step - loss: 1.3496e-04 - mean_absolute_error: 0.0082 - root_mean_squared_error: 0.0116\n",
      "Epoch 61/100\n",
      "273/273 - 1s - 4ms/step - loss: 1.3522e-04 - mean_absolute_error: 0.0082 - root_mean_squared_error: 0.0116\n",
      "Epoch 62/100\n",
      "273/273 - 1s - 4ms/step - loss: 1.3265e-04 - mean_absolute_error: 0.0081 - root_mean_squared_error: 0.0115\n",
      "Epoch 63/100\n",
      "273/273 - 1s - 4ms/step - loss: 1.3427e-04 - mean_absolute_error: 0.0082 - root_mean_squared_error: 0.0116\n",
      "Epoch 64/100\n",
      "273/273 - 1s - 4ms/step - loss: 1.3293e-04 - mean_absolute_error: 0.0081 - root_mean_squared_error: 0.0115\n",
      "Epoch 65/100\n",
      "273/273 - 1s - 4ms/step - loss: 1.3359e-04 - mean_absolute_error: 0.0082 - root_mean_squared_error: 0.0116\n",
      "Epoch 66/100\n",
      "273/273 - 1s - 4ms/step - loss: 1.3297e-04 - mean_absolute_error: 0.0081 - root_mean_squared_error: 0.0115\n",
      "Epoch 67/100\n",
      "273/273 - 1s - 4ms/step - loss: 1.3171e-04 - mean_absolute_error: 0.0081 - root_mean_squared_error: 0.0115\n",
      "Epoch 68/100\n",
      "273/273 - 1s - 4ms/step - loss: 1.3202e-04 - mean_absolute_error: 0.0081 - root_mean_squared_error: 0.0115\n",
      "Epoch 69/100\n",
      "273/273 - 1s - 4ms/step - loss: 1.3371e-04 - mean_absolute_error: 0.0082 - root_mean_squared_error: 0.0116\n",
      "Epoch 70/100\n",
      "273/273 - 1s - 4ms/step - loss: 1.3327e-04 - mean_absolute_error: 0.0081 - root_mean_squared_error: 0.0115\n",
      "Epoch 71/100\n",
      "273/273 - 1s - 4ms/step - loss: 1.3110e-04 - mean_absolute_error: 0.0081 - root_mean_squared_error: 0.0114\n",
      "Epoch 72/100\n",
      "273/273 - 1s - 4ms/step - loss: 1.3249e-04 - mean_absolute_error: 0.0081 - root_mean_squared_error: 0.0115\n",
      "Epoch 73/100\n",
      "273/273 - 1s - 4ms/step - loss: 1.3263e-04 - mean_absolute_error: 0.0081 - root_mean_squared_error: 0.0115\n",
      "Epoch 74/100\n",
      "273/273 - 1s - 4ms/step - loss: 1.3138e-04 - mean_absolute_error: 0.0081 - root_mean_squared_error: 0.0115\n",
      "Epoch 75/100\n",
      "273/273 - 1s - 4ms/step - loss: 1.3133e-04 - mean_absolute_error: 0.0081 - root_mean_squared_error: 0.0115\n",
      "Epoch 76/100\n",
      "273/273 - 1s - 4ms/step - loss: 1.3046e-04 - mean_absolute_error: 0.0081 - root_mean_squared_error: 0.0114\n",
      "Epoch 77/100\n",
      "273/273 - 1s - 4ms/step - loss: 1.3042e-04 - mean_absolute_error: 0.0081 - root_mean_squared_error: 0.0114\n",
      "Epoch 78/100\n",
      "273/273 - 1s - 4ms/step - loss: 1.3118e-04 - mean_absolute_error: 0.0081 - root_mean_squared_error: 0.0115\n",
      "Epoch 79/100\n",
      "273/273 - 1s - 4ms/step - loss: 1.3110e-04 - mean_absolute_error: 0.0081 - root_mean_squared_error: 0.0114\n",
      "Epoch 80/100\n",
      "273/273 - 1s - 4ms/step - loss: 1.2952e-04 - mean_absolute_error: 0.0080 - root_mean_squared_error: 0.0114\n",
      "Epoch 81/100\n",
      "273/273 - 1s - 4ms/step - loss: 1.3058e-04 - mean_absolute_error: 0.0081 - root_mean_squared_error: 0.0114\n",
      "Epoch 82/100\n",
      "273/273 - 1s - 4ms/step - loss: 1.2916e-04 - mean_absolute_error: 0.0080 - root_mean_squared_error: 0.0114\n",
      "Epoch 83/100\n",
      "273/273 - 1s - 4ms/step - loss: 1.3004e-04 - mean_absolute_error: 0.0080 - root_mean_squared_error: 0.0114\n",
      "Epoch 84/100\n",
      "273/273 - 1s - 4ms/step - loss: 1.2891e-04 - mean_absolute_error: 0.0080 - root_mean_squared_error: 0.0114\n",
      "Epoch 85/100\n",
      "273/273 - 1s - 4ms/step - loss: 1.2859e-04 - mean_absolute_error: 0.0080 - root_mean_squared_error: 0.0113\n",
      "Epoch 86/100\n",
      "273/273 - 1s - 4ms/step - loss: 1.2807e-04 - mean_absolute_error: 0.0080 - root_mean_squared_error: 0.0113\n",
      "Epoch 87/100\n",
      "273/273 - 1s - 4ms/step - loss: 1.2959e-04 - mean_absolute_error: 0.0080 - root_mean_squared_error: 0.0114\n",
      "Epoch 88/100\n",
      "273/273 - 1s - 4ms/step - loss: 1.2911e-04 - mean_absolute_error: 0.0080 - root_mean_squared_error: 0.0114\n",
      "Epoch 89/100\n",
      "273/273 - 1s - 4ms/step - loss: 1.2821e-04 - mean_absolute_error: 0.0080 - root_mean_squared_error: 0.0113\n",
      "Epoch 90/100\n",
      "273/273 - 1s - 4ms/step - loss: 1.2679e-04 - mean_absolute_error: 0.0080 - root_mean_squared_error: 0.0113\n",
      "Epoch 91/100\n",
      "273/273 - 1s - 5ms/step - loss: 1.2742e-04 - mean_absolute_error: 0.0080 - root_mean_squared_error: 0.0113\n",
      "Epoch 92/100\n",
      "273/273 - 1s - 5ms/step - loss: 1.2655e-04 - mean_absolute_error: 0.0080 - root_mean_squared_error: 0.0112\n",
      "Epoch 93/100\n",
      "273/273 - 1s - 5ms/step - loss: 1.2690e-04 - mean_absolute_error: 0.0080 - root_mean_squared_error: 0.0113\n",
      "Epoch 94/100\n",
      "273/273 - 1s - 5ms/step - loss: 1.2845e-04 - mean_absolute_error: 0.0080 - root_mean_squared_error: 0.0113\n",
      "Epoch 95/100\n",
      "273/273 - 1s - 5ms/step - loss: 1.2612e-04 - mean_absolute_error: 0.0080 - root_mean_squared_error: 0.0112\n",
      "Epoch 96/100\n",
      "273/273 - 1s - 5ms/step - loss: 1.2642e-04 - mean_absolute_error: 0.0080 - root_mean_squared_error: 0.0112\n",
      "Epoch 97/100\n",
      "273/273 - 1s - 5ms/step - loss: 1.2728e-04 - mean_absolute_error: 0.0080 - root_mean_squared_error: 0.0113\n",
      "Epoch 98/100\n",
      "273/273 - 1s - 5ms/step - loss: 1.2846e-04 - mean_absolute_error: 0.0080 - root_mean_squared_error: 0.0113\n",
      "Epoch 99/100\n",
      "273/273 - 1s - 5ms/step - loss: 1.2743e-04 - mean_absolute_error: 0.0080 - root_mean_squared_error: 0.0113\n",
      "Epoch 100/100\n",
      "273/273 - 1s - 5ms/step - loss: 1.2520e-04 - mean_absolute_error: 0.0079 - root_mean_squared_error: 0.0112\n"
     ]
    }
   ],
   "source": [
    "# Fit the model\n",
    "history =  model.fit(X_train, y_train, epochs=100, verbose=2)"
   ]
  },
  {
   "cell_type": "code",
   "execution_count": 70,
   "metadata": {},
   "outputs": [],
   "source": [
    "test_size = 50\n",
    "rebdate = return_series.tail(test_size +1).index[1]\n",
    "X_test = []\n",
    "y_test = []\n",
    "prediction_dates = []\n",
    "while rebdate < return_series.tail(1).index[-1]:\n",
    "    X_test_ = return_series[return_series.index < rebdate].tail(width).values.reshape((num_stocks,width))\n",
    "    X_test.append(X_test_)\n",
    "    y_test.append(return_series[return_series.index >= rebdate].head(1).values.reshape(num_stocks, step_day))\n",
    "    rebdate += pd.DateOffset(days=1)\n",
    "    prediction_dates.append(return_series[return_series.index >= rebdate].index[0])\n",
    "X_test = np.stack(X_test)\n",
    "y_test = np.stack(y_test)"
   ]
  },
  {
   "cell_type": "code",
   "execution_count": 71,
   "metadata": {},
   "outputs": [
    {
     "name": "stdout",
     "output_type": "stream",
     "text": [
      "\u001b[1m3/3\u001b[0m \u001b[32m━━━━━━━━━━━━━━━━━━━━\u001b[0m\u001b[37m\u001b[0m \u001b[1m1s\u001b[0m 274ms/step\n"
     ]
    }
   ],
   "source": [
    "predicted_returns = model.predict(X_test).reshape(y_test.shape)"
   ]
  },
  {
   "cell_type": "code",
   "execution_count": 72,
   "metadata": {},
   "outputs": [
    {
     "data": {
      "text/plain": [
       "<Axes: >"
      ]
     },
     "execution_count": 72,
     "metadata": {},
     "output_type": "execute_result"
    },
    {
     "data": {
      "image/png": "[encoded data removed]",
      "text/plain": [
       "<Figure size 640x480 with 1 Axes>"
      ]
     },
     "metadata": {},
     "output_type": "display_data"
    }
   ],
   "source": [
    "stock_position = 0\n",
    "test = y_test[:,stock_position].reshape(-1)\n",
    "prediction = predicted_returns[:,stock_position].reshape(-1)\n",
    "df = pd.DataFrame({ f\"{return_series.columns[stock_position]}\": test,\n",
    "              f\"predicted_{return_series.columns[stock_position]}\" : prediction},\n",
    "             index= prediction_dates)\n",
    "df.plot()"
   ]
  },
  {
   "cell_type": "code",
   "execution_count": 73,
   "metadata": {},
   "outputs": [
    {
     "data": {
      "text/html": [
       "<div>\n",
       "<style scoped>\n",
       "    .dataframe tbody tr th:only-of-type {\n",
       "        vertical-align: middle;\n",
       "    }\n",
       "\n",
       "    .dataframe tbody tr th {\n",
       "        vertical-align: top;\n",
       "    }\n",
       "\n",
       "    .dataframe thead th {\n",
       "        text-align: right;\n",
       "    }\n",
       "</style>\n",
       "<table border=\"1\" class=\"dataframe\">\n",
       "  <thead>\n",
       "    <tr style=\"text-align: right;\">\n",
       "      <th></th>\n",
       "      <th>prediction</th>\n",
       "      <th>benchmark</th>\n",
       "      <th>predicted_relevance</th>\n",
       "      <th>benchmark_relevance</th>\n",
       "    </tr>\n",
       "  </thead>\n",
       "  <tbody>\n",
       "    <tr>\n",
       "      <th>NL</th>\n",
       "      <td>-0.001020</td>\n",
       "      <td>-0.013588</td>\n",
       "      <td>9</td>\n",
       "      <td>1</td>\n",
       "    </tr>\n",
       "    <tr>\n",
       "      <th>IT</th>\n",
       "      <td>-0.001480</td>\n",
       "      <td>-0.007067</td>\n",
       "      <td>5</td>\n",
       "      <td>2</td>\n",
       "    </tr>\n",
       "    <tr>\n",
       "      <th>AT</th>\n",
       "      <td>-0.000264</td>\n",
       "      <td>-0.005665</td>\n",
       "      <td>16</td>\n",
       "      <td>3</td>\n",
       "    </tr>\n",
       "    <tr>\n",
       "      <th>FR</th>\n",
       "      <td>-0.001004</td>\n",
       "      <td>-0.002323</td>\n",
       "      <td>10</td>\n",
       "      <td>4</td>\n",
       "    </tr>\n",
       "    <tr>\n",
       "      <th>DE</th>\n",
       "      <td>-0.001426</td>\n",
       "      <td>-0.002086</td>\n",
       "      <td>6</td>\n",
       "      <td>5</td>\n",
       "    </tr>\n",
       "    <tr>\n",
       "      <th>CH</th>\n",
       "      <td>-0.000236</td>\n",
       "      <td>-0.001485</td>\n",
       "      <td>17</td>\n",
       "      <td>6</td>\n",
       "    </tr>\n",
       "    <tr>\n",
       "      <th>SE</th>\n",
       "      <td>-0.001129</td>\n",
       "      <td>-0.000899</td>\n",
       "      <td>7</td>\n",
       "      <td>7</td>\n",
       "    </tr>\n",
       "    <tr>\n",
       "      <th>FI</th>\n",
       "      <td>-0.003270</td>\n",
       "      <td>-0.000671</td>\n",
       "      <td>1</td>\n",
       "      <td>8</td>\n",
       "    </tr>\n",
       "    <tr>\n",
       "      <th>ES</th>\n",
       "      <td>-0.001897</td>\n",
       "      <td>-0.000240</td>\n",
       "      <td>3</td>\n",
       "      <td>9</td>\n",
       "    </tr>\n",
       "    <tr>\n",
       "      <th>GR</th>\n",
       "      <td>-0.001588</td>\n",
       "      <td>0.000000</td>\n",
       "      <td>4</td>\n",
       "      <td>10</td>\n",
       "    </tr>\n",
       "    <tr>\n",
       "      <th>GB</th>\n",
       "      <td>-0.000471</td>\n",
       "      <td>0.000502</td>\n",
       "      <td>13</td>\n",
       "      <td>11</td>\n",
       "    </tr>\n",
       "    <tr>\n",
       "      <th>NO</th>\n",
       "      <td>-0.000094</td>\n",
       "      <td>0.003326</td>\n",
       "      <td>20</td>\n",
       "      <td>12</td>\n",
       "    </tr>\n",
       "    <tr>\n",
       "      <th>US</th>\n",
       "      <td>-0.000322</td>\n",
       "      <td>0.003352</td>\n",
       "      <td>14</td>\n",
       "      <td>13</td>\n",
       "    </tr>\n",
       "    <tr>\n",
       "      <th>CA</th>\n",
       "      <td>-0.000120</td>\n",
       "      <td>0.003392</td>\n",
       "      <td>19</td>\n",
       "      <td>14</td>\n",
       "    </tr>\n",
       "    <tr>\n",
       "      <th>AU</th>\n",
       "      <td>0.001751</td>\n",
       "      <td>0.003404</td>\n",
       "      <td>24</td>\n",
       "      <td>15</td>\n",
       "    </tr>\n",
       "    <tr>\n",
       "      <th>SG</th>\n",
       "      <td>-0.000288</td>\n",
       "      <td>0.003444</td>\n",
       "      <td>15</td>\n",
       "      <td>16</td>\n",
       "    </tr>\n",
       "    <tr>\n",
       "      <th>JP</th>\n",
       "      <td>0.000887</td>\n",
       "      <td>0.004620</td>\n",
       "      <td>23</td>\n",
       "      <td>17</td>\n",
       "    </tr>\n",
       "    <tr>\n",
       "      <th>BE</th>\n",
       "      <td>-0.000222</td>\n",
       "      <td>0.004917</td>\n",
       "      <td>18</td>\n",
       "      <td>18</td>\n",
       "    </tr>\n",
       "    <tr>\n",
       "      <th>PT</th>\n",
       "      <td>-0.001036</td>\n",
       "      <td>0.007252</td>\n",
       "      <td>8</td>\n",
       "      <td>19</td>\n",
       "    </tr>\n",
       "    <tr>\n",
       "      <th>IE</th>\n",
       "      <td>-0.002031</td>\n",
       "      <td>0.009124</td>\n",
       "      <td>2</td>\n",
       "      <td>20</td>\n",
       "    </tr>\n",
       "    <tr>\n",
       "      <th>HK</th>\n",
       "      <td>0.000735</td>\n",
       "      <td>0.010232</td>\n",
       "      <td>22</td>\n",
       "      <td>21</td>\n",
       "    </tr>\n",
       "    <tr>\n",
       "      <th>NZ</th>\n",
       "      <td>0.000471</td>\n",
       "      <td>0.012112</td>\n",
       "      <td>21</td>\n",
       "      <td>22</td>\n",
       "    </tr>\n",
       "    <tr>\n",
       "      <th>DK</th>\n",
       "      <td>-0.000918</td>\n",
       "      <td>0.013446</td>\n",
       "      <td>11</td>\n",
       "      <td>23</td>\n",
       "    </tr>\n",
       "    <tr>\n",
       "      <th>IL</th>\n",
       "      <td>-0.000749</td>\n",
       "      <td>0.013628</td>\n",
       "      <td>12</td>\n",
       "      <td>24</td>\n",
       "    </tr>\n",
       "  </tbody>\n",
       "</table>\n",
       "</div>"
      ],
      "text/plain": [
       "    prediction  benchmark  predicted_relevance  benchmark_relevance\n",
       "NL   -0.001020  -0.013588                    9                    1\n",
       "IT   -0.001480  -0.007067                    5                    2\n",
       "AT   -0.000264  -0.005665                   16                    3\n",
       "FR   -0.001004  -0.002323                   10                    4\n",
       "DE   -0.001426  -0.002086                    6                    5\n",
       "CH   -0.000236  -0.001485                   17                    6\n",
       "SE   -0.001129  -0.000899                    7                    7\n",
       "FI   -0.003270  -0.000671                    1                    8\n",
       "ES   -0.001897  -0.000240                    3                    9\n",
       "GR   -0.001588   0.000000                    4                   10\n",
       "GB   -0.000471   0.000502                   13                   11\n",
       "NO   -0.000094   0.003326                   20                   12\n",
       "US   -0.000322   0.003352                   14                   13\n",
       "CA   -0.000120   0.003392                   19                   14\n",
       "AU    0.001751   0.003404                   24                   15\n",
       "SG   -0.000288   0.003444                   15                   16\n",
       "JP    0.000887   0.004620                   23                   17\n",
       "BE   -0.000222   0.004917                   18                   18\n",
       "PT   -0.001036   0.007252                    8                   19\n",
       "IE   -0.002031   0.009124                    2                   20\n",
       "HK    0.000735   0.010232                   22                   21\n",
       "NZ    0.000471   0.012112                   21                   22\n",
       "DK   -0.000918   0.013446                   11                   23\n",
       "IL   -0.000749   0.013628                   12                   24"
      ]
     },
     "execution_count": 73,
     "metadata": {},
     "output_type": "execute_result"
    },
    {
     "data": {
      "image/png": "[encoded data removed]",
      "text/plain": [
       "<Figure size 640x480 with 1 Axes>"
      ]
     },
     "metadata": {},
     "output_type": "display_data"
    }
   ],
   "source": [
    "ranking = pd.DataFrame({\"prediction\": predicted_returns[-1].reshape(-1),\n",
    "            #   \"prediction_rank\": predicted_returns[-1].reshape(-1).argsort().argsort(),\n",
    "             \"benchmark\": y_test[-1].reshape(-1),\n",
    "            #  \"benchmark_rank\": y_test[-1].reshape(-1).argsort().argsort()\n",
    "            }, index= return_series.columns)\n",
    "ranking['predicted_relevance'] = ranking[\"prediction\"].rank(ascending=True).astype(int)\n",
    "ranking['benchmark_relevance'] = ranking[\"benchmark\"].rank(ascending=True).astype(int)\n",
    "\n",
    "ranking.plot(\"benchmark_relevance\" , \"predicted_relevance\", kind = \"scatter\")\n",
    "ranking.sort_values(\"benchmark_relevance\")"
   ]
  },
  {
   "cell_type": "code",
   "execution_count": 53,
   "metadata": {},
   "outputs": [
    {
     "name": "stdout",
     "output_type": "stream",
     "text": [
      "ndcg_score              = 0.3008269350704703\n"
     ]
    }
   ],
   "source": [
    "from sklearn.metrics import ndcg_score, average_precision_score\n",
    "from sklearn.preprocessing import OneHotEncoder\n",
    "from sklearn.preprocessing import LabelBinarizer\n",
    "\n",
    "enc = LabelBinarizer()\n",
    "\n",
    "benchmark = enc.fit_transform(ranking['benchmark_relevance'])\n",
    "preds = enc.transform(ranking['predicted_relevance'])\n",
    "print(f\"ndcg_score              = {ndcg_score(benchmark, preds,  k=24)}\")"
   ]
  },
  {
   "cell_type": "markdown",
   "metadata": {},
   "source": [
    "## Save model "
   ]
  },
  {
   "cell_type": "code",
   "execution_count": null,
   "metadata": {},
   "outputs": [
    {
     "data": {
      "text/html": [
       "<pre style=\"white-space:pre;overflow-x:auto;line-height:normal;font-family:Menlo,'DejaVu Sans Mono',consolas,'Courier New',monospace\"><span style=\"font-weight: bold\">Model: \"sequential\"</span>\n",
       "</pre>\n"
      ],
      "text/plain": [
       "\u001b[1mModel: \"sequential\"\u001b[0m\n"
      ]
     },
     "metadata": {},
     "output_type": "display_data"
    },
    {
     "data": {
      "text/html": [
       "<pre style=\"white-space:pre;overflow-x:auto;line-height:normal;font-family:Menlo,'DejaVu Sans Mono',consolas,'Courier New',monospace\">┏━━━━━━━━━━━━━━━━━━━━━━━━━━━━━━━━━┳━━━━━━━━━━━━━━━━━━━━━━━━┳━━━━━━━━━━━━━━━┓\n",
       "┃<span style=\"font-weight: bold\"> Layer (type)                    </span>┃<span style=\"font-weight: bold\"> Output Shape           </span>┃<span style=\"font-weight: bold\">       Param # </span>┃\n",
       "┡━━━━━━━━━━━━━━━━━━━━━━━━━━━━━━━━━╇━━━━━━━━━━━━━━━━━━━━━━━━╇━━━━━━━━━━━━━━━┩\n",
       "│ lstm (<span style=\"color: #0087ff; text-decoration-color: #0087ff\">LSTM</span>)                     │ (<span style=\"color: #00d7ff; text-decoration-color: #00d7ff\">None</span>, <span style=\"color: #00af00; text-decoration-color: #00af00\">50</span>)             │        <span style=\"color: #00af00; text-decoration-color: #00af00\">30,200</span> │\n",
       "├─────────────────────────────────┼────────────────────────┼───────────────┤\n",
       "│ dropout (<span style=\"color: #0087ff; text-decoration-color: #0087ff\">Dropout</span>)               │ (<span style=\"color: #00d7ff; text-decoration-color: #00d7ff\">None</span>, <span style=\"color: #00af00; text-decoration-color: #00af00\">50</span>)             │             <span style=\"color: #00af00; text-decoration-color: #00af00\">0</span> │\n",
       "├─────────────────────────────────┼────────────────────────┼───────────────┤\n",
       "│ dense (<span style=\"color: #0087ff; text-decoration-color: #0087ff\">Dense</span>)                   │ (<span style=\"color: #00d7ff; text-decoration-color: #00d7ff\">None</span>, <span style=\"color: #00af00; text-decoration-color: #00af00\">24</span>)             │         <span style=\"color: #00af00; text-decoration-color: #00af00\">1,224</span> │\n",
       "└─────────────────────────────────┴────────────────────────┴───────────────┘\n",
       "</pre>\n"
      ],
      "text/plain": [
       "┏━━━━━━━━━━━━━━━━━━━━━━━━━━━━━━━━━┳━━━━━━━━━━━━━━━━━━━━━━━━┳━━━━━━━━━━━━━━━┓\n",
       "┃\u001b[1m \u001b[0m\u001b[1mLayer (type)                   \u001b[0m\u001b[1m \u001b[0m┃\u001b[1m \u001b[0m\u001b[1mOutput Shape          \u001b[0m\u001b[1m \u001b[0m┃\u001b[1m \u001b[0m\u001b[1m      Param #\u001b[0m\u001b[1m \u001b[0m┃\n",
       "┡━━━━━━━━━━━━━━━━━━━━━━━━━━━━━━━━━╇━━━━━━━━━━━━━━━━━━━━━━━━╇━━━━━━━━━━━━━━━┩\n",
       "│ lstm (\u001b[38;5;33mLSTM\u001b[0m)                     │ (\u001b[38;5;45mNone\u001b[0m, \u001b[38;5;34m50\u001b[0m)             │        \u001b[38;5;34m30,200\u001b[0m │\n",
       "├─────────────────────────────────┼────────────────────────┼───────────────┤\n",
       "│ dropout (\u001b[38;5;33mDropout\u001b[0m)               │ (\u001b[38;5;45mNone\u001b[0m, \u001b[38;5;34m50\u001b[0m)             │             \u001b[38;5;34m0\u001b[0m │\n",
       "├─────────────────────────────────┼────────────────────────┼───────────────┤\n",
       "│ dense (\u001b[38;5;33mDense\u001b[0m)                   │ (\u001b[38;5;45mNone\u001b[0m, \u001b[38;5;34m24\u001b[0m)             │         \u001b[38;5;34m1,224\u001b[0m │\n",
       "└─────────────────────────────────┴────────────────────────┴───────────────┘\n"
      ]
     },
     "metadata": {},
     "output_type": "display_data"
    },
    {
     "data": {
      "text/html": [
       "<pre style=\"white-space:pre;overflow-x:auto;line-height:normal;font-family:Menlo,'DejaVu Sans Mono',consolas,'Courier New',monospace\"><span style=\"font-weight: bold\"> Total params: </span><span style=\"color: #00af00; text-decoration-color: #00af00\">94,274</span> (368.26 KB)\n",
       "</pre>\n"
      ],
      "text/plain": [
       "\u001b[1m Total params: \u001b[0m\u001b[38;5;34m94,274\u001b[0m (368.26 KB)\n"
      ]
     },
     "metadata": {},
     "output_type": "display_data"
    },
    {
     "data": {
      "text/html": [
       "<pre style=\"white-space:pre;overflow-x:auto;line-height:normal;font-family:Menlo,'DejaVu Sans Mono',consolas,'Courier New',monospace\"><span style=\"font-weight: bold\"> Trainable params: </span><span style=\"color: #00af00; text-decoration-color: #00af00\">31,424</span> (122.75 KB)\n",
       "</pre>\n"
      ],
      "text/plain": [
       "\u001b[1m Trainable params: \u001b[0m\u001b[38;5;34m31,424\u001b[0m (122.75 KB)\n"
      ]
     },
     "metadata": {},
     "output_type": "display_data"
    },
    {
     "data": {
      "text/html": [
       "<pre style=\"white-space:pre;overflow-x:auto;line-height:normal;font-family:Menlo,'DejaVu Sans Mono',consolas,'Courier New',monospace\"><span style=\"font-weight: bold\"> Non-trainable params: </span><span style=\"color: #00af00; text-decoration-color: #00af00\">0</span> (0.00 B)\n",
       "</pre>\n"
      ],
      "text/plain": [
       "\u001b[1m Non-trainable params: \u001b[0m\u001b[38;5;34m0\u001b[0m (0.00 B)\n"
      ]
     },
     "metadata": {},
     "output_type": "display_data"
    },
    {
     "data": {
      "text/html": [
       "<pre style=\"white-space:pre;overflow-x:auto;line-height:normal;font-family:Menlo,'DejaVu Sans Mono',consolas,'Courier New',monospace\"><span style=\"font-weight: bold\"> Optimizer params: </span><span style=\"color: #00af00; text-decoration-color: #00af00\">62,850</span> (245.51 KB)\n",
       "</pre>\n"
      ],
      "text/plain": [
       "\u001b[1m Optimizer params: \u001b[0m\u001b[38;5;34m62,850\u001b[0m (245.51 KB)\n"
      ]
     },
     "metadata": {},
     "output_type": "display_data"
    }
   ],
   "source": [
    "# Save the entire model as a `.keras` zip archive.\n",
    "# path_model = f\"../model/lstm_msci.keras\"\n",
    "# model.save(path_model)\n",
    "# model_loaded = tf.keras.models.load_model(path_model)\n",
    "# # Show the model architecture\n",
    "# model_loaded.summary()\n",
    "\n",
    "# result = model(X_test[:2])\n",
    "# result_loaded_model = model_loaded(X_test[:2])"
   ]
  },
  {
   "cell_type": "code",
   "execution_count": null,
   "metadata": {},
   "outputs": [
    {
     "data": {
      "text/plain": [
       "Index(['GR', 'AT', 'IE', 'ES', 'PT', 'IT', 'SE', 'DE', 'JP', 'BE', 'FI', 'IL',\n",
       "       'NL', 'US', 'FR', 'CA', 'AU', 'SG', 'CH', 'GB'],\n",
       "      dtype='object')"
      ]
     },
     "execution_count": 12,
     "metadata": {},
     "output_type": "execute_result"
    }
   ],
   "source": [
    "indx_top = result_loaded_model[-1].numpy().argsort()[:20]\n",
    "return_series.columns[indx_top]"
   ]
  },
  {
   "cell_type": "code",
   "execution_count": null,
   "metadata": {},
   "outputs": [
    {
     "name": "stderr",
     "output_type": "stream",
     "text": [
      "I0000 00:00:1723376098.407898   17673 cuda_executor.cc:1015] successful NUMA node read from SysFS had negative value (-1), but there must be at least one NUMA node, so returning NUMA node zero. See more at https://github.com/torvalds/linux/blob/v6.0/Documentation/ABI/testing/sysfs-bus-pci#L344-L355\n",
      "I0000 00:00:1723376098.408286   17673 devices.cc:67] Number of eligible GPUs (core count >= 8, compute capability >= 0.0): 1\n",
      "2024-08-11 13:34:58.408396: I tensorflow/core/grappler/clusters/single_machine.cc:361] Starting new session\n",
      "I0000 00:00:1723376098.410530   17673 cuda_executor.cc:1015] successful NUMA node read from SysFS had negative value (-1), but there must be at least one NUMA node, so returning NUMA node zero. See more at https://github.com/torvalds/linux/blob/v6.0/Documentation/ABI/testing/sysfs-bus-pci#L344-L355\n",
      "I0000 00:00:1723376098.411023   17673 cuda_executor.cc:1015] successful NUMA node read from SysFS had negative value (-1), but there must be at least one NUMA node, so returning NUMA node zero. See more at https://github.com/torvalds/linux/blob/v6.0/Documentation/ABI/testing/sysfs-bus-pci#L344-L355\n",
      "I0000 00:00:1723376098.411488   17673 cuda_executor.cc:1015] successful NUMA node read from SysFS had negative value (-1), but there must be at least one NUMA node, so returning NUMA node zero. See more at https://github.com/torvalds/linux/blob/v6.0/Documentation/ABI/testing/sysfs-bus-pci#L344-L355\n",
      "I0000 00:00:1723376098.411846   17673 cuda_executor.cc:1015] successful NUMA node read from SysFS had negative value (-1), but there must be at least one NUMA node, so returning NUMA node zero. See more at https://github.com/torvalds/linux/blob/v6.0/Documentation/ABI/testing/sysfs-bus-pci#L344-L355\n",
      "I0000 00:00:1723376098.412047   17673 cuda_executor.cc:1015] successful NUMA node read from SysFS had negative value (-1), but there must be at least one NUMA node, so returning NUMA node zero. See more at https://github.com/torvalds/linux/blob/v6.0/Documentation/ABI/testing/sysfs-bus-pci#L344-L355\n",
      "2024-08-11 13:34:58.412180: I tensorflow/core/common_runtime/gpu/gpu_device.cc:2021] Created device /job:localhost/replica:0/task:0/device:GPU:0 with 4781 MB memory:  -> device: 0, name: NVIDIA GeForce RTX 2060, pci bus id: 0000:01:00.0, compute capability: 7.5\n",
      "I0000 00:00:1723376098.677503   17673 cuda_executor.cc:1015] successful NUMA node read from SysFS had negative value (-1), but there must be at least one NUMA node, so returning NUMA node zero. See more at https://github.com/torvalds/linux/blob/v6.0/Documentation/ABI/testing/sysfs-bus-pci#L344-L355\n",
      "I0000 00:00:1723376098.677923   17673 cuda_executor.cc:1015] successful NUMA node read from SysFS had negative value (-1), but there must be at least one NUMA node, so returning NUMA node zero. See more at https://github.com/torvalds/linux/blob/v6.0/Documentation/ABI/testing/sysfs-bus-pci#L344-L355\n",
      "I0000 00:00:1723376098.678161   17673 cuda_executor.cc:1015] successful NUMA node read from SysFS had negative value (-1), but there must be at least one NUMA node, so returning NUMA node zero. See more at https://github.com/torvalds/linux/blob/v6.0/Documentation/ABI/testing/sysfs-bus-pci#L344-L355\n",
      "I0000 00:00:1723376098.678468   17673 cuda_executor.cc:1015] successful NUMA node read from SysFS had negative value (-1), but there must be at least one NUMA node, so returning NUMA node zero. See more at https://github.com/torvalds/linux/blob/v6.0/Documentation/ABI/testing/sysfs-bus-pci#L344-L355\n",
      "I0000 00:00:1723376098.678811   17673 cuda_executor.cc:1015] successful NUMA node read from SysFS had negative value (-1), but there must be at least one NUMA node, so returning NUMA node zero. See more at https://github.com/torvalds/linux/blob/v6.0/Documentation/ABI/testing/sysfs-bus-pci#L344-L355\n",
      "2024-08-11 13:34:58.678965: I tensorflow/core/common_runtime/gpu/gpu_device.cc:2021] Created device /job:localhost/replica:0/task:0/device:GPU:0 with 4781 MB memory:  -> device: 0, name: NVIDIA GeForce RTX 2060, pci bus id: 0000:01:00.0, compute capability: 7.5\n",
      "I0000 00:00:1723376098.761772   17673 cuda_executor.cc:1015] successful NUMA node read from SysFS had negative value (-1), but there must be at least one NUMA node, so returning NUMA node zero. See more at https://github.com/torvalds/linux/blob/v6.0/Documentation/ABI/testing/sysfs-bus-pci#L344-L355\n",
      "I0000 00:00:1723376098.761993   17673 devices.cc:67] Number of eligible GPUs (core count >= 8, compute capability >= 0.0): 1\n",
      "2024-08-11 13:34:58.762167: I tensorflow/core/grappler/clusters/single_machine.cc:361] Starting new session\n",
      "I0000 00:00:1723376098.762578   17673 cuda_executor.cc:1015] successful NUMA node read from SysFS had negative value (-1), but there must be at least one NUMA node, so returning NUMA node zero. See more at https://github.com/torvalds/linux/blob/v6.0/Documentation/ABI/testing/sysfs-bus-pci#L344-L355\n",
      "I0000 00:00:1723376098.762775   17673 cuda_executor.cc:1015] successful NUMA node read from SysFS had negative value (-1), but there must be at least one NUMA node, so returning NUMA node zero. See more at https://github.com/torvalds/linux/blob/v6.0/Documentation/ABI/testing/sysfs-bus-pci#L344-L355\n",
      "I0000 00:00:1723376098.762950   17673 cuda_executor.cc:1015] successful NUMA node read from SysFS had negative value (-1), but there must be at least one NUMA node, so returning NUMA node zero. See more at https://github.com/torvalds/linux/blob/v6.0/Documentation/ABI/testing/sysfs-bus-pci#L344-L355\n",
      "I0000 00:00:1723376098.763163   17673 cuda_executor.cc:1015] successful NUMA node read from SysFS had negative value (-1), but there must be at least one NUMA node, so returning NUMA node zero. See more at https://github.com/torvalds/linux/blob/v6.0/Documentation/ABI/testing/sysfs-bus-pci#L344-L355\n",
      "I0000 00:00:1723376098.763340   17673 cuda_executor.cc:1015] successful NUMA node read from SysFS had negative value (-1), but there must be at least one NUMA node, so returning NUMA node zero. See more at https://github.com/torvalds/linux/blob/v6.0/Documentation/ABI/testing/sysfs-bus-pci#L344-L355\n",
      "2024-08-11 13:34:58.763463: I tensorflow/core/common_runtime/gpu/gpu_device.cc:2021] Created device /job:localhost/replica:0/task:0/device:GPU:0 with 4781 MB memory:  -> device: 0, name: NVIDIA GeForce RTX 2060, pci bus id: 0000:01:00.0, compute capability: 7.5\n",
      "I0000 00:00:1723376098.960669   17673 cuda_executor.cc:1015] successful NUMA node read from SysFS had negative value (-1), but there must be at least one NUMA node, so returning NUMA node zero. See more at https://github.com/torvalds/linux/blob/v6.0/Documentation/ABI/testing/sysfs-bus-pci#L344-L355\n",
      "I0000 00:00:1723376098.961074   17673 cuda_executor.cc:1015] successful NUMA node read from SysFS had negative value (-1), but there must be at least one NUMA node, so returning NUMA node zero. See more at https://github.com/torvalds/linux/blob/v6.0/Documentation/ABI/testing/sysfs-bus-pci#L344-L355\n",
      "I0000 00:00:1723376098.961389   17673 cuda_executor.cc:1015] successful NUMA node read from SysFS had negative value (-1), but there must be at least one NUMA node, so returning NUMA node zero. See more at https://github.com/torvalds/linux/blob/v6.0/Documentation/ABI/testing/sysfs-bus-pci#L344-L355\n",
      "I0000 00:00:1723376098.961634   17673 cuda_executor.cc:1015] successful NUMA node read from SysFS had negative value (-1), but there must be at least one NUMA node, so returning NUMA node zero. See more at https://github.com/torvalds/linux/blob/v6.0/Documentation/ABI/testing/sysfs-bus-pci#L344-L355\n",
      "I0000 00:00:1723376098.961832   17673 cuda_executor.cc:1015] successful NUMA node read from SysFS had negative value (-1), but there must be at least one NUMA node, so returning NUMA node zero. See more at https://github.com/torvalds/linux/blob/v6.0/Documentation/ABI/testing/sysfs-bus-pci#L344-L355\n",
      "2024-08-11 13:34:58.961973: I tensorflow/core/common_runtime/gpu/gpu_device.cc:2021] Created device /job:localhost/replica:0/task:0/device:GPU:0 with 4781 MB memory:  -> device: 0, name: NVIDIA GeForce RTX 2060, pci bus id: 0000:01:00.0, compute capability: 7.5\n",
      "2024-08-11 13:34:58.964222: I tensorflow/compiler/mlir/mlir_graph_optimization_pass.cc:388] MLIR V1 optimization pass is not enabled\n"
     ]
    }
   ],
   "source": [
    "# import tensorflow as tf\n",
    "# import tf2onnx\n",
    "# import onnx\n",
    "\n",
    "# model.output_names=['return_series']\n",
    "# input_signature = [tf.TensorSpec([None, num_stocks,width], tf.float32)]\n",
    "# # Use from_function for tf functions\n",
    "# onnx_model, _ = tf2onnx.convert.from_keras(model, input_signature)\n",
    "# onnx.save(onnx_model, \"../model/model.onnx\")\n"
   ]
  },
  {
   "cell_type": "code",
   "execution_count": null,
   "metadata": {},
   "outputs": [],
   "source": []
  }
 ],
 "metadata": {
  "kernelspec": {
   "display_name": "base",
   "language": "python",
   "name": "python3"
  },
  "language_info": {
   "codemirror_mode": {
    "name": "ipython",
    "version": 3
   },
   "file_extension": ".py",
   "mimetype": "text/x-python",
   "name": "python",
   "nbconvert_exporter": "python",
   "pygments_lexer": "ipython3",
   "version": "3.11.5"
  }
 },
 "nbformat": 4,
 "nbformat_minor": 2
}

{
 "cells": [
  {
   "cell_type": "code",
   "execution_count": 2,
   "metadata": {},
   "outputs": [
    {
     "name": "stdout",
     "output_type": "stream",
     "text": [
      "Historical daily returns of 24 stocks from 1999-01-01 00:00:00 to 2023-04-18 00:00:00\n"
     ]
    }
   ],
   "source": [
    "import numpy as np\n",
    "import pandas as pd\n",
    "import matplotlib.pyplot as plt\n",
    "from datetime import datetime\n",
    "from tensorflow.keras.models import Sequential\n",
    "from tensorflow.keras.layers import Dense, LSTM, Dropout\n",
    "from sklearn.preprocessing import MinMaxScaler\n",
    "from sklearn.metrics import mean_squared_error, mean_absolute_error\n",
    "from sklearn.model_selection import train_test_split\n",
    "from keras.callbacks import EarlyStopping\n",
    "from tensorflow.keras.optimizers import Adam, SGD\n",
    "\n",
    "# Read and preprocess the dataset\n",
    "\n",
    "path = '../data/'  # Change this to your path\n",
    "# return_series = pd.read_parquet(f'{path}usa_returns.parquet')\n",
    "return_series = pd.read_csv('../data/msci_country_indices.csv', sep= \";\", index_col=0 )\n",
    "return_series.index = pd.to_datetime(return_series.index)\n",
    "return_series_monthly = np.exp(np.log(1 + return_series).resample('M').sum()) - 1\n",
    "\n",
    "from sklearn.preprocessing import StandardScaler\n",
    "scaler = StandardScaler()\n",
    "scaler.fit(return_series)\n",
    "return_series_scaled = pd.DataFrame(scaler.transform(return_series),\n",
    "                                    columns= return_series.columns,\n",
    "                                    index= return_series.index)\n",
    "num_stocks= return_series_scaled.shape[1]\n",
    "print(f\"Historical daily returns of {return_series.shape[1]} stocks from {return_series.head(1).index[0]} to {return_series.tail(1).index[0]}\")"
   ]
  },
  {
   "cell_type": "code",
   "execution_count": 168,
   "metadata": {},
   "outputs": [],
   "source": [
    "width = 100 #days\n",
    "rebdate = return_series.index[width]\n",
    "X_train = []\n",
    "y_train = []\n",
    "train_enddate = return_series.tail(width +1).index[-2]\n",
    "step_day = 1\n",
    "\n",
    "while rebdate < train_enddate:  # num_shape needs to be defined\n",
    "    X_train_ = return_series_scaled[return_series_scaled.index < rebdate].tail(width).values.reshape((num_stocks,width))  # train_scaled should be defined\n",
    "    X_train.append(X_train_)\n",
    "    y_train.append(return_series[return_series.index >= rebdate].head(1).values[0])\n",
    "    rebdate += pd.DateOffset(days=step_day)\n",
    "X_train = np.stack(X_train)\n",
    "y_train = np.stack(y_train)"
   ]
  },
  {
   "cell_type": "code",
   "execution_count": 169,
   "metadata": {},
   "outputs": [
    {
     "data": {
      "text/plain": [
       "((8732, 24, 100), (8732, 24))"
      ]
     },
     "execution_count": 169,
     "metadata": {},
     "output_type": "execute_result"
    }
   ],
   "source": [
    "X_train.shape, y_train.shape"
   ]
  },
  {
   "cell_type": "markdown",
   "metadata": {},
   "source": [
    "### Dataset description \n",
    "\n",
    "For training dataset: 6815 time slices with length of 100 days "
   ]
  },
  {
   "cell_type": "code",
   "execution_count": 126,
   "metadata": {},
   "outputs": [
    {
     "name": "stderr",
     "output_type": "stream",
     "text": [
      "/home/akaboshi/anaconda3/lib/python3.11/site-packages/keras/src/layers/rnn/rnn.py:204: UserWarning: Do not pass an `input_shape`/`input_dim` argument to a layer. When using Sequential models, prefer using an `Input(shape)` object as the first layer in the model instead.\n",
      "  super().__init__(**kwargs)\n"
     ]
    },
    {
     "data": {
      "text/html": [
       "<pre style=\"white-space:pre;overflow-x:auto;line-height:normal;font-family:Menlo,'DejaVu Sans Mono',consolas,'Courier New',monospace\"><span style=\"font-weight: bold\">Model: \"sequential_6\"</span>\n",
       "</pre>\n"
      ],
      "text/plain": [
       "\u001b[1mModel: \"sequential_6\"\u001b[0m\n"
      ]
     },
     "metadata": {},
     "output_type": "display_data"
    },
    {
     "data": {
      "text/html": [
       "<pre style=\"white-space:pre;overflow-x:auto;line-height:normal;font-family:Menlo,'DejaVu Sans Mono',consolas,'Courier New',monospace\">┏━━━━━━━━━━━━━━━━━━━━━━━━━━━━━━━━━┳━━━━━━━━━━━━━━━━━━━━━━━━┳━━━━━━━━━━━━━━━┓\n",
       "┃<span style=\"font-weight: bold\"> Layer (type)                    </span>┃<span style=\"font-weight: bold\"> Output Shape           </span>┃<span style=\"font-weight: bold\">       Param # </span>┃\n",
       "┡━━━━━━━━━━━━━━━━━━━━━━━━━━━━━━━━━╇━━━━━━━━━━━━━━━━━━━━━━━━╇━━━━━━━━━━━━━━━┩\n",
       "│ lstm_7 (<span style=\"color: #0087ff; text-decoration-color: #0087ff\">LSTM</span>)                   │ (<span style=\"color: #00d7ff; text-decoration-color: #00d7ff\">None</span>, <span style=\"color: #00af00; text-decoration-color: #00af00\">50</span>)             │        <span style=\"color: #00af00; text-decoration-color: #00af00\">30,200</span> │\n",
       "├─────────────────────────────────┼────────────────────────┼───────────────┤\n",
       "│ dropout_3 (<span style=\"color: #0087ff; text-decoration-color: #0087ff\">Dropout</span>)             │ (<span style=\"color: #00d7ff; text-decoration-color: #00d7ff\">None</span>, <span style=\"color: #00af00; text-decoration-color: #00af00\">50</span>)             │             <span style=\"color: #00af00; text-decoration-color: #00af00\">0</span> │\n",
       "├─────────────────────────────────┼────────────────────────┼───────────────┤\n",
       "│ dense_5 (<span style=\"color: #0087ff; text-decoration-color: #0087ff\">Dense</span>)                 │ (<span style=\"color: #00d7ff; text-decoration-color: #00d7ff\">None</span>, <span style=\"color: #00af00; text-decoration-color: #00af00\">24</span>)             │         <span style=\"color: #00af00; text-decoration-color: #00af00\">1,224</span> │\n",
       "└─────────────────────────────────┴────────────────────────┴───────────────┘\n",
       "</pre>\n"
      ],
      "text/plain": [
       "┏━━━━━━━━━━━━━━━━━━━━━━━━━━━━━━━━━┳━━━━━━━━━━━━━━━━━━━━━━━━┳━━━━━━━━━━━━━━━┓\n",
       "┃\u001b[1m \u001b[0m\u001b[1mLayer (type)                   \u001b[0m\u001b[1m \u001b[0m┃\u001b[1m \u001b[0m\u001b[1mOutput Shape          \u001b[0m\u001b[1m \u001b[0m┃\u001b[1m \u001b[0m\u001b[1m      Param #\u001b[0m\u001b[1m \u001b[0m┃\n",
       "┡━━━━━━━━━━━━━━━━━━━━━━━━━━━━━━━━━╇━━━━━━━━━━━━━━━━━━━━━━━━╇━━━━━━━━━━━━━━━┩\n",
       "│ lstm_7 (\u001b[38;5;33mLSTM\u001b[0m)                   │ (\u001b[38;5;45mNone\u001b[0m, \u001b[38;5;34m50\u001b[0m)             │        \u001b[38;5;34m30,200\u001b[0m │\n",
       "├─────────────────────────────────┼────────────────────────┼───────────────┤\n",
       "│ dropout_3 (\u001b[38;5;33mDropout\u001b[0m)             │ (\u001b[38;5;45mNone\u001b[0m, \u001b[38;5;34m50\u001b[0m)             │             \u001b[38;5;34m0\u001b[0m │\n",
       "├─────────────────────────────────┼────────────────────────┼───────────────┤\n",
       "│ dense_5 (\u001b[38;5;33mDense\u001b[0m)                 │ (\u001b[38;5;45mNone\u001b[0m, \u001b[38;5;34m24\u001b[0m)             │         \u001b[38;5;34m1,224\u001b[0m │\n",
       "└─────────────────────────────────┴────────────────────────┴───────────────┘\n"
      ]
     },
     "metadata": {},
     "output_type": "display_data"
    },
    {
     "data": {
      "text/html": [
       "<pre style=\"white-space:pre;overflow-x:auto;line-height:normal;font-family:Menlo,'DejaVu Sans Mono',consolas,'Courier New',monospace\"><span style=\"font-weight: bold\"> Total params: </span><span style=\"color: #00af00; text-decoration-color: #00af00\">31,424</span> (122.75 KB)\n",
       "</pre>\n"
      ],
      "text/plain": [
       "\u001b[1m Total params: \u001b[0m\u001b[38;5;34m31,424\u001b[0m (122.75 KB)\n"
      ]
     },
     "metadata": {},
     "output_type": "display_data"
    },
    {
     "data": {
      "text/html": [
       "<pre style=\"white-space:pre;overflow-x:auto;line-height:normal;font-family:Menlo,'DejaVu Sans Mono',consolas,'Courier New',monospace\"><span style=\"font-weight: bold\"> Trainable params: </span><span style=\"color: #00af00; text-decoration-color: #00af00\">31,424</span> (122.75 KB)\n",
       "</pre>\n"
      ],
      "text/plain": [
       "\u001b[1m Trainable params: \u001b[0m\u001b[38;5;34m31,424\u001b[0m (122.75 KB)\n"
      ]
     },
     "metadata": {},
     "output_type": "display_data"
    },
    {
     "data": {
      "text/html": [
       "<pre style=\"white-space:pre;overflow-x:auto;line-height:normal;font-family:Menlo,'DejaVu Sans Mono',consolas,'Courier New',monospace\"><span style=\"font-weight: bold\"> Non-trainable params: </span><span style=\"color: #00af00; text-decoration-color: #00af00\">0</span> (0.00 B)\n",
       "</pre>\n"
      ],
      "text/plain": [
       "\u001b[1m Non-trainable params: \u001b[0m\u001b[38;5;34m0\u001b[0m (0.00 B)\n"
      ]
     },
     "metadata": {},
     "output_type": "display_data"
    }
   ],
   "source": [
    "# Initialize the Recurrent Neural Network (RNN) model\n",
    "\n",
    "# create and fit the LSTM network\n",
    "model = Sequential()\n",
    "model.add(LSTM(50, activation= \"relu\", input_shape=(num_stocks, width)))\n",
    "model.add(Dropout(0.2))\n",
    "model.add(Dense(num_stocks))\n",
    "model.compile(loss='mean_squared_error', optimizer='adam')\n",
    "model.summary()\n",
    "model.compile(optimizer='adam', loss='mean_squared_error')"
   ]
  },
  {
   "cell_type": "code",
   "execution_count": 127,
   "metadata": {},
   "outputs": [
    {
     "name": "stdout",
     "output_type": "stream",
     "text": [
      "Epoch 1/100\n",
      "273/273 - 4s - 15ms/step - loss: 0.0240\n",
      "Epoch 2/100\n",
      "273/273 - 1s - 3ms/step - loss: 0.0044\n",
      "Epoch 3/100\n",
      "273/273 - 1s - 3ms/step - loss: 0.0022\n",
      "Epoch 4/100\n",
      "273/273 - 1s - 3ms/step - loss: 0.0013\n",
      "Epoch 5/100\n",
      "273/273 - 1s - 3ms/step - loss: 0.0061\n",
      "Epoch 6/100\n",
      "273/273 - 1s - 3ms/step - loss: 0.0011\n",
      "Epoch 7/100\n",
      "273/273 - 1s - 3ms/step - loss: 5.8588e-04\n",
      "Epoch 8/100\n",
      "273/273 - 1s - 3ms/step - loss: 4.6915e-04\n",
      "Epoch 9/100\n",
      "273/273 - 1s - 3ms/step - loss: 3.9748e-04\n",
      "Epoch 10/100\n",
      "273/273 - 1s - 3ms/step - loss: 3.4644e-04\n",
      "Epoch 11/100\n",
      "273/273 - 1s - 3ms/step - loss: 3.0908e-04\n",
      "Epoch 12/100\n",
      "273/273 - 1s - 3ms/step - loss: 2.7618e-04\n",
      "Epoch 13/100\n",
      "273/273 - 1s - 3ms/step - loss: 2.5525e-04\n",
      "Epoch 14/100\n",
      "273/273 - 1s - 3ms/step - loss: 2.3526e-04\n",
      "Epoch 15/100\n",
      "273/273 - 1s - 3ms/step - loss: 2.2370e-04\n",
      "Epoch 16/100\n",
      "273/273 - 1s - 3ms/step - loss: 2.1419e-04\n",
      "Epoch 17/100\n",
      "273/273 - 1s - 3ms/step - loss: 2.1135e-04\n",
      "Epoch 18/100\n",
      "273/273 - 1s - 3ms/step - loss: 2.0768e-04\n",
      "Epoch 19/100\n",
      "273/273 - 1s - 3ms/step - loss: 2.0326e-04\n",
      "Epoch 20/100\n",
      "273/273 - 1s - 5ms/step - loss: 2.0218e-04\n",
      "Epoch 21/100\n",
      "273/273 - 1s - 3ms/step - loss: 1.9834e-04\n",
      "Epoch 22/100\n",
      "273/273 - 1s - 3ms/step - loss: 1.9570e-04\n",
      "Epoch 23/100\n",
      "273/273 - 1s - 3ms/step - loss: 1.9438e-04\n",
      "Epoch 24/100\n",
      "273/273 - 1s - 3ms/step - loss: 1.8954e-04\n",
      "Epoch 25/100\n",
      "273/273 - 1s - 3ms/step - loss: 1.9346e-04\n",
      "Epoch 26/100\n",
      "273/273 - 1s - 3ms/step - loss: 1.8878e-04\n",
      "Epoch 27/100\n",
      "273/273 - 1s - 3ms/step - loss: 1.8250e-04\n",
      "Epoch 28/100\n",
      "273/273 - 1s - 3ms/step - loss: 1.8025e-04\n",
      "Epoch 29/100\n",
      "273/273 - 1s - 3ms/step - loss: 1.8817e-04\n",
      "Epoch 30/100\n",
      "273/273 - 1s - 3ms/step - loss: 1.7947e-04\n",
      "Epoch 31/100\n",
      "273/273 - 1s - 3ms/step - loss: 1.8004e-04\n",
      "Epoch 32/100\n",
      "273/273 - 1s - 3ms/step - loss: 1.8647e-04\n",
      "Epoch 33/100\n",
      "273/273 - 1s - 3ms/step - loss: 1.7718e-04\n",
      "Epoch 34/100\n",
      "273/273 - 1s - 3ms/step - loss: 1.7074e-04\n",
      "Epoch 35/100\n",
      "273/273 - 1s - 3ms/step - loss: 1.6664e-04\n",
      "Epoch 36/100\n",
      "273/273 - 1s - 3ms/step - loss: 1.6922e-04\n",
      "Epoch 37/100\n",
      "273/273 - 1s - 3ms/step - loss: 1.6374e-04\n",
      "Epoch 38/100\n",
      "273/273 - 1s - 3ms/step - loss: 1.6667e-04\n",
      "Epoch 39/100\n",
      "273/273 - 1s - 3ms/step - loss: 1.6188e-04\n",
      "Epoch 40/100\n",
      "273/273 - 1s - 3ms/step - loss: 1.6860e-04\n",
      "Epoch 41/100\n",
      "273/273 - 1s - 3ms/step - loss: 1.8231e-04\n",
      "Epoch 42/100\n",
      "273/273 - 1s - 3ms/step - loss: 1.6275e-04\n",
      "Epoch 43/100\n",
      "273/273 - 1s - 3ms/step - loss: 1.5421e-04\n",
      "Epoch 44/100\n",
      "273/273 - 1s - 3ms/step - loss: 1.5776e-04\n",
      "Epoch 45/100\n",
      "273/273 - 1s - 3ms/step - loss: 1.5544e-04\n",
      "Epoch 46/100\n",
      "273/273 - 1s - 3ms/step - loss: 1.5916e-04\n",
      "Epoch 47/100\n",
      "273/273 - 1s - 3ms/step - loss: 1.5130e-04\n",
      "Epoch 48/100\n",
      "273/273 - 1s - 3ms/step - loss: 1.4591e-04\n",
      "Epoch 49/100\n",
      "273/273 - 1s - 3ms/step - loss: 1.4644e-04\n",
      "Epoch 50/100\n",
      "273/273 - 1s - 3ms/step - loss: 1.4563e-04\n",
      "Epoch 51/100\n",
      "273/273 - 1s - 3ms/step - loss: 1.5389e-04\n",
      "Epoch 52/100\n",
      "273/273 - 1s - 3ms/step - loss: 1.6137e-04\n",
      "Epoch 53/100\n",
      "273/273 - 1s - 3ms/step - loss: 1.5178e-04\n",
      "Epoch 54/100\n",
      "273/273 - 1s - 3ms/step - loss: 1.4045e-04\n",
      "Epoch 55/100\n",
      "273/273 - 1s - 3ms/step - loss: 1.3881e-04\n",
      "Epoch 56/100\n",
      "273/273 - 1s - 3ms/step - loss: 1.3678e-04\n",
      "Epoch 57/100\n",
      "273/273 - 1s - 3ms/step - loss: 1.4168e-04\n",
      "Epoch 58/100\n",
      "273/273 - 1s - 3ms/step - loss: 1.4423e-04\n",
      "Epoch 59/100\n",
      "273/273 - 1s - 3ms/step - loss: 1.4056e-04\n",
      "Epoch 60/100\n",
      "273/273 - 1s - 3ms/step - loss: 1.4222e-04\n",
      "Epoch 61/100\n",
      "273/273 - 1s - 3ms/step - loss: 1.3786e-04\n",
      "Epoch 62/100\n",
      "273/273 - 1s - 3ms/step - loss: 1.3250e-04\n",
      "Epoch 63/100\n",
      "273/273 - 1s - 3ms/step - loss: 1.3445e-04\n",
      "Epoch 64/100\n",
      "273/273 - 1s - 3ms/step - loss: 1.3364e-04\n",
      "Epoch 65/100\n",
      "273/273 - 1s - 3ms/step - loss: 1.3279e-04\n",
      "Epoch 66/100\n",
      "273/273 - 1s - 3ms/step - loss: 1.3275e-04\n",
      "Epoch 67/100\n",
      "273/273 - 1s - 3ms/step - loss: 1.2872e-04\n",
      "Epoch 68/100\n",
      "273/273 - 1s - 3ms/step - loss: 1.3070e-04\n",
      "Epoch 69/100\n",
      "273/273 - 1s - 3ms/step - loss: 1.3023e-04\n",
      "Epoch 70/100\n",
      "273/273 - 1s - 3ms/step - loss: 1.3387e-04\n",
      "Epoch 71/100\n",
      "273/273 - 1s - 3ms/step - loss: 1.3533e-04\n",
      "Epoch 72/100\n",
      "273/273 - 1s - 3ms/step - loss: 1.3533e-04\n",
      "Epoch 73/100\n",
      "273/273 - 1s - 3ms/step - loss: 1.3133e-04\n",
      "Epoch 74/100\n",
      "273/273 - 1s - 3ms/step - loss: 1.3250e-04\n",
      "Epoch 75/100\n",
      "273/273 - 1s - 3ms/step - loss: 1.2187e-04\n",
      "Epoch 76/100\n",
      "273/273 - 1s - 3ms/step - loss: 1.1998e-04\n",
      "Epoch 77/100\n",
      "273/273 - 1s - 3ms/step - loss: 1.2667e-04\n",
      "Epoch 78/100\n",
      "273/273 - 1s - 3ms/step - loss: 1.2356e-04\n",
      "Epoch 79/100\n",
      "273/273 - 1s - 3ms/step - loss: 1.2907e-04\n",
      "Epoch 80/100\n",
      "273/273 - 1s - 3ms/step - loss: 1.2217e-04\n",
      "Epoch 81/100\n",
      "273/273 - 1s - 3ms/step - loss: 1.2054e-04\n",
      "Epoch 82/100\n",
      "273/273 - 1s - 3ms/step - loss: 1.2344e-04\n",
      "Epoch 83/100\n",
      "273/273 - 1s - 3ms/step - loss: 1.2127e-04\n",
      "Epoch 84/100\n",
      "273/273 - 1s - 3ms/step - loss: 1.2113e-04\n",
      "Epoch 85/100\n",
      "273/273 - 1s - 3ms/step - loss: 1.1999e-04\n",
      "Epoch 86/100\n",
      "273/273 - 1s - 3ms/step - loss: 1.2260e-04\n",
      "Epoch 87/100\n",
      "273/273 - 1s - 3ms/step - loss: 1.2332e-04\n",
      "Epoch 88/100\n",
      "273/273 - 1s - 3ms/step - loss: 1.2727e-04\n",
      "Epoch 89/100\n",
      "273/273 - 1s - 3ms/step - loss: 1.2959e-04\n",
      "Epoch 90/100\n",
      "273/273 - 1s - 3ms/step - loss: 1.2622e-04\n",
      "Epoch 91/100\n",
      "273/273 - 1s - 3ms/step - loss: 1.1946e-04\n",
      "Epoch 92/100\n",
      "273/273 - 1s - 3ms/step - loss: 1.1578e-04\n",
      "Epoch 93/100\n",
      "273/273 - 1s - 3ms/step - loss: 1.1659e-04\n",
      "Epoch 94/100\n",
      "273/273 - 1s - 3ms/step - loss: 1.1628e-04\n",
      "Epoch 95/100\n",
      "273/273 - 1s - 3ms/step - loss: 1.1522e-04\n",
      "Epoch 96/100\n",
      "273/273 - 1s - 3ms/step - loss: 1.2044e-04\n",
      "Epoch 97/100\n",
      "273/273 - 1s - 3ms/step - loss: 1.2566e-04\n",
      "Epoch 98/100\n",
      "273/273 - 1s - 3ms/step - loss: 1.2588e-04\n",
      "Epoch 99/100\n",
      "273/273 - 1s - 5ms/step - loss: 1.1841e-04\n",
      "Epoch 100/100\n",
      "273/273 - 1s - 3ms/step - loss: 1.1465e-04\n"
     ]
    },
    {
     "data": {
      "text/plain": [
       "<keras.src.callbacks.history.History at 0x7f04d3c0cd10>"
      ]
     },
     "execution_count": 127,
     "metadata": {},
     "output_type": "execute_result"
    }
   ],
   "source": [
    "# Fit the model\n",
    "model.fit(X_train, y_train, epochs=100, verbose=2)"
   ]
  },
  {
   "cell_type": "code",
   "execution_count": 147,
   "metadata": {},
   "outputs": [],
   "source": [
    "test_size = 50\n",
    "rebdate = return_series.tail(test_size +1).index[1]\n",
    "X_test = []\n",
    "y_test = []\n",
    "prediction_dates = []\n",
    "while rebdate < return_series.tail(1).index[-1]:\n",
    "    X_test_ = return_series_scaled[return_series_scaled.index < rebdate].tail(width).values.reshape((num_stocks,width))\n",
    "    X_test.append(X_test_)\n",
    "    y_test.append(return_series[return_series.index >= rebdate].head(1).values.reshape(num_stocks, step_day))\n",
    "    rebdate += pd.DateOffset(days=1)\n",
    "    prediction_dates.append(return_series[return_series.index >= rebdate].index[0])\n",
    "X_test = np.stack(X_test)\n",
    "y_test = np.stack(y_test)"
   ]
  },
  {
   "cell_type": "code",
   "execution_count": 150,
   "metadata": {},
   "outputs": [
    {
     "name": "stdout",
     "output_type": "stream",
     "text": [
      "\u001b[1m3/3\u001b[0m \u001b[32m━━━━━━━━━━━━━━━━━━━━\u001b[0m\u001b[37m\u001b[0m \u001b[1m0s\u001b[0m 2ms/step \n"
     ]
    }
   ],
   "source": [
    "predicted_returns = model.predict(X_test).reshape(y_test.shape)"
   ]
  },
  {
   "cell_type": "code",
   "execution_count": 151,
   "metadata": {},
   "outputs": [
    {
     "data": {
      "text/plain": [
       "<Axes: >"
      ]
     },
     "execution_count": 151,
     "metadata": {},
     "output_type": "execute_result"
    },
    {
     "data": {
      "image/png": "[encoded data removed]",
      "text/plain": [
       "<Figure size 640x480 with 1 Axes>"
      ]
     },
     "metadata": {},
     "output_type": "display_data"
    }
   ],
   "source": [
    "stock_position = 0\n",
    "test = y_test[:,stock_position].reshape(-1)\n",
    "prediction = predicted_returns[:,stock_position].reshape(-1)\n",
    "df = pd.DataFrame({ f\"{return_series.columns[stock_position]}\": test,\n",
    "              f\"predicted_{return_series.columns[stock_position]}\" : prediction},\n",
    "             index= prediction_dates)\n",
    "df.plot()"
   ]
  },
  {
   "cell_type": "code",
   "execution_count": 214,
   "metadata": {},
   "outputs": [
    {
     "data": {
      "text/html": [
       "<div>\n",
       "<style scoped>\n",
       "    .dataframe tbody tr th:only-of-type {\n",
       "        vertical-align: middle;\n",
       "    }\n",
       "\n",
       "    .dataframe tbody tr th {\n",
       "        vertical-align: top;\n",
       "    }\n",
       "\n",
       "    .dataframe thead th {\n",
       "        text-align: right;\n",
       "    }\n",
       "</style>\n",
       "<table border=\"1\" class=\"dataframe\">\n",
       "  <thead>\n",
       "    <tr style=\"text-align: right;\">\n",
       "      <th></th>\n",
       "      <th>prediction</th>\n",
       "      <th>benchmark</th>\n",
       "      <th>predicted_revelance</th>\n",
       "      <th>benchmark_revelance</th>\n",
       "    </tr>\n",
       "  </thead>\n",
       "  <tbody>\n",
       "    <tr>\n",
       "      <th>NL</th>\n",
       "      <td>-0.003189</td>\n",
       "      <td>-0.013588</td>\n",
       "      <td>2</td>\n",
       "      <td>1</td>\n",
       "    </tr>\n",
       "    <tr>\n",
       "      <th>IT</th>\n",
       "      <td>-0.002834</td>\n",
       "      <td>-0.007067</td>\n",
       "      <td>3</td>\n",
       "      <td>2</td>\n",
       "    </tr>\n",
       "    <tr>\n",
       "      <th>AT</th>\n",
       "      <td>-0.002033</td>\n",
       "      <td>-0.005665</td>\n",
       "      <td>8</td>\n",
       "      <td>3</td>\n",
       "    </tr>\n",
       "    <tr>\n",
       "      <th>FR</th>\n",
       "      <td>-0.002207</td>\n",
       "      <td>-0.002323</td>\n",
       "      <td>5</td>\n",
       "      <td>4</td>\n",
       "    </tr>\n",
       "    <tr>\n",
       "      <th>DE</th>\n",
       "      <td>-0.002167</td>\n",
       "      <td>-0.002086</td>\n",
       "      <td>6</td>\n",
       "      <td>5</td>\n",
       "    </tr>\n",
       "    <tr>\n",
       "      <th>CH</th>\n",
       "      <td>-0.002068</td>\n",
       "      <td>-0.001485</td>\n",
       "      <td>7</td>\n",
       "      <td>6</td>\n",
       "    </tr>\n",
       "    <tr>\n",
       "      <th>SE</th>\n",
       "      <td>-0.001926</td>\n",
       "      <td>-0.000899</td>\n",
       "      <td>10</td>\n",
       "      <td>7</td>\n",
       "    </tr>\n",
       "    <tr>\n",
       "      <th>FI</th>\n",
       "      <td>-0.001739</td>\n",
       "      <td>-0.000671</td>\n",
       "      <td>12</td>\n",
       "      <td>8</td>\n",
       "    </tr>\n",
       "    <tr>\n",
       "      <th>ES</th>\n",
       "      <td>-0.002578</td>\n",
       "      <td>-0.000240</td>\n",
       "      <td>4</td>\n",
       "      <td>9</td>\n",
       "    </tr>\n",
       "    <tr>\n",
       "      <th>GR</th>\n",
       "      <td>-0.000672</td>\n",
       "      <td>0.000000</td>\n",
       "      <td>15</td>\n",
       "      <td>10</td>\n",
       "    </tr>\n",
       "    <tr>\n",
       "      <th>GB</th>\n",
       "      <td>-0.000454</td>\n",
       "      <td>0.000502</td>\n",
       "      <td>17</td>\n",
       "      <td>11</td>\n",
       "    </tr>\n",
       "    <tr>\n",
       "      <th>NO</th>\n",
       "      <td>-0.001909</td>\n",
       "      <td>0.003326</td>\n",
       "      <td>11</td>\n",
       "      <td>12</td>\n",
       "    </tr>\n",
       "    <tr>\n",
       "      <th>US</th>\n",
       "      <td>-0.000486</td>\n",
       "      <td>0.003352</td>\n",
       "      <td>16</td>\n",
       "      <td>13</td>\n",
       "    </tr>\n",
       "    <tr>\n",
       "      <th>CA</th>\n",
       "      <td>0.001173</td>\n",
       "      <td>0.003392</td>\n",
       "      <td>23</td>\n",
       "      <td>14</td>\n",
       "    </tr>\n",
       "    <tr>\n",
       "      <th>AU</th>\n",
       "      <td>0.001306</td>\n",
       "      <td>0.003404</td>\n",
       "      <td>24</td>\n",
       "      <td>15</td>\n",
       "    </tr>\n",
       "    <tr>\n",
       "      <th>SG</th>\n",
       "      <td>0.000085</td>\n",
       "      <td>0.003444</td>\n",
       "      <td>20</td>\n",
       "      <td>16</td>\n",
       "    </tr>\n",
       "    <tr>\n",
       "      <th>JP</th>\n",
       "      <td>0.000049</td>\n",
       "      <td>0.004620</td>\n",
       "      <td>18</td>\n",
       "      <td>17</td>\n",
       "    </tr>\n",
       "    <tr>\n",
       "      <th>BE</th>\n",
       "      <td>-0.003473</td>\n",
       "      <td>0.004917</td>\n",
       "      <td>1</td>\n",
       "      <td>18</td>\n",
       "    </tr>\n",
       "    <tr>\n",
       "      <th>PT</th>\n",
       "      <td>-0.001978</td>\n",
       "      <td>0.007252</td>\n",
       "      <td>9</td>\n",
       "      <td>19</td>\n",
       "    </tr>\n",
       "    <tr>\n",
       "      <th>IE</th>\n",
       "      <td>-0.001465</td>\n",
       "      <td>0.009124</td>\n",
       "      <td>13</td>\n",
       "      <td>20</td>\n",
       "    </tr>\n",
       "    <tr>\n",
       "      <th>HK</th>\n",
       "      <td>0.000352</td>\n",
       "      <td>0.010232</td>\n",
       "      <td>21</td>\n",
       "      <td>21</td>\n",
       "    </tr>\n",
       "    <tr>\n",
       "      <th>NZ</th>\n",
       "      <td>-0.000681</td>\n",
       "      <td>0.012112</td>\n",
       "      <td>14</td>\n",
       "      <td>22</td>\n",
       "    </tr>\n",
       "    <tr>\n",
       "      <th>DK</th>\n",
       "      <td>0.000082</td>\n",
       "      <td>0.013446</td>\n",
       "      <td>19</td>\n",
       "      <td>23</td>\n",
       "    </tr>\n",
       "    <tr>\n",
       "      <th>IL</th>\n",
       "      <td>0.000736</td>\n",
       "      <td>0.013628</td>\n",
       "      <td>22</td>\n",
       "      <td>24</td>\n",
       "    </tr>\n",
       "  </tbody>\n",
       "</table>\n",
       "</div>"
      ],
      "text/plain": [
       "    prediction  benchmark  predicted_revelance  benchmark_revelance\n",
       "NL   -0.003189  -0.013588                    2                    1\n",
       "IT   -0.002834  -0.007067                    3                    2\n",
       "AT   -0.002033  -0.005665                    8                    3\n",
       "FR   -0.002207  -0.002323                    5                    4\n",
       "DE   -0.002167  -0.002086                    6                    5\n",
       "CH   -0.002068  -0.001485                    7                    6\n",
       "SE   -0.001926  -0.000899                   10                    7\n",
       "FI   -0.001739  -0.000671                   12                    8\n",
       "ES   -0.002578  -0.000240                    4                    9\n",
       "GR   -0.000672   0.000000                   15                   10\n",
       "GB   -0.000454   0.000502                   17                   11\n",
       "NO   -0.001909   0.003326                   11                   12\n",
       "US   -0.000486   0.003352                   16                   13\n",
       "CA    0.001173   0.003392                   23                   14\n",
       "AU    0.001306   0.003404                   24                   15\n",
       "SG    0.000085   0.003444                   20                   16\n",
       "JP    0.000049   0.004620                   18                   17\n",
       "BE   -0.003473   0.004917                    1                   18\n",
       "PT   -0.001978   0.007252                    9                   19\n",
       "IE   -0.001465   0.009124                   13                   20\n",
       "HK    0.000352   0.010232                   21                   21\n",
       "NZ   -0.000681   0.012112                   14                   22\n",
       "DK    0.000082   0.013446                   19                   23\n",
       "IL    0.000736   0.013628                   22                   24"
      ]
     },
     "execution_count": 214,
     "metadata": {},
     "output_type": "execute_result"
    },
    {
     "data": {
      "image/png": "[encoded data removed]",
      "text/plain": [
       "<Figure size 640x480 with 1 Axes>"
      ]
     },
     "metadata": {},
     "output_type": "display_data"
    }
   ],
   "source": [
    "ranking = pd.DataFrame({\"prediction\": predicted_returns[-1].reshape(-1),\n",
    "            #   \"prediction_rank\": predicted_returns[-1].reshape(-1).argsort().argsort(),\n",
    "             \"benchmark\": y_test[-1].reshape(-1),\n",
    "            #  \"benchmark_rank\": y_test[-1].reshape(-1).argsort().argsort()\n",
    "            }, index= return_series.columns)\n",
    "ranking['predicted_revelance'] = ranking[\"prediction\"].rank(ascending=True).astype(int)\n",
    "ranking['benchmark_revelance'] = ranking[\"benchmark\"].rank(ascending=True).astype(int)\n",
    "\n",
    "ranking.plot(\"benchmark_revelance\" , \"predicted_revelance\", kind = \"scatter\")\n",
    "ranking.sort_values(\"benchmark_revelance\")"
   ]
  },
  {
   "cell_type": "markdown",
   "metadata": {},
   "source": [
    "## Save model "
   ]
  },
  {
   "cell_type": "code",
   "execution_count": 195,
   "metadata": {},
   "outputs": [],
   "source": [
    "# Save the entire model as a `.keras` zip archive.\n",
    "path_model = f\"../model/lstm_msci.keras\"\n",
    "model.save(path_model)\n",
    "model_loaded = tf.keras.models.load_model(path_model)\n",
    "# Show the model architecture\n",
    "model_loaded.summary()\n",
    "\n",
    "result = model(X_test[:2])\n",
    "result_loaded_model = model_loaded(X_test[:2])"
   ]
  },
  {
   "cell_type": "code",
   "execution_count": 215,
   "metadata": {},
   "outputs": [
    {
     "data": {
      "text/plain": [
       "Index(['BE', 'NZ', 'NL', 'FI', 'ES', 'GR', 'CH', 'PT', 'IT', 'FR', 'SE', 'AU',\n",
       "       'SG', 'JP', 'DE', 'US', 'IE', 'GB', 'NO', 'HK'],\n",
       "      dtype='object')"
      ]
     },
     "execution_count": 215,
     "metadata": {},
     "output_type": "execute_result"
    }
   ],
   "source": [
    "indx_top = result_loaded_model[-1].numpy().argsort()[:20]\n",
    "return_series.columns[indx_top]"
   ]
  },
  {
   "cell_type": "code",
   "execution_count": 192,
   "metadata": {},
   "outputs": [
    {
     "name": "stderr",
     "output_type": "stream",
     "text": [
      "I0000 00:00:1722777395.939742    3321 cuda_executor.cc:1015] successful NUMA node read from SysFS had negative value (-1), but there must be at least one NUMA node, so returning NUMA node zero. See more at https://github.com/torvalds/linux/blob/v6.0/Documentation/ABI/testing/sysfs-bus-pci#L344-L355\n",
      "I0000 00:00:1722777395.939918    3321 devices.cc:67] Number of eligible GPUs (core count >= 8, compute capability >= 0.0): 1\n",
      "2024-08-04 15:16:35.940007: I tensorflow/core/grappler/clusters/single_machine.cc:361] Starting new session\n",
      "I0000 00:00:1722777395.940488    3321 cuda_executor.cc:1015] successful NUMA node read from SysFS had negative value (-1), but there must be at least one NUMA node, so returning NUMA node zero. See more at https://github.com/torvalds/linux/blob/v6.0/Documentation/ABI/testing/sysfs-bus-pci#L344-L355\n",
      "I0000 00:00:1722777395.940769    3321 cuda_executor.cc:1015] successful NUMA node read from SysFS had negative value (-1), but there must be at least one NUMA node, so returning NUMA node zero. See more at https://github.com/torvalds/linux/blob/v6.0/Documentation/ABI/testing/sysfs-bus-pci#L344-L355\n",
      "I0000 00:00:1722777395.940910    3321 cuda_executor.cc:1015] successful NUMA node read from SysFS had negative value (-1), but there must be at least one NUMA node, so returning NUMA node zero. See more at https://github.com/torvalds/linux/blob/v6.0/Documentation/ABI/testing/sysfs-bus-pci#L344-L355\n",
      "I0000 00:00:1722777395.941060    3321 cuda_executor.cc:1015] successful NUMA node read from SysFS had negative value (-1), but there must be at least one NUMA node, so returning NUMA node zero. See more at https://github.com/torvalds/linux/blob/v6.0/Documentation/ABI/testing/sysfs-bus-pci#L344-L355\n",
      "I0000 00:00:1722777395.941174    3321 cuda_executor.cc:1015] successful NUMA node read from SysFS had negative value (-1), but there must be at least one NUMA node, so returning NUMA node zero. See more at https://github.com/torvalds/linux/blob/v6.0/Documentation/ABI/testing/sysfs-bus-pci#L344-L355\n",
      "2024-08-04 15:16:35.941256: I tensorflow/core/common_runtime/gpu/gpu_device.cc:2021] Created device /job:localhost/replica:0/task:0/device:GPU:0 with 4781 MB memory:  -> device: 0, name: NVIDIA GeForce RTX 2060, pci bus id: 0000:01:00.0, compute capability: 7.5\n",
      "I0000 00:00:1722777395.985276    3321 cuda_executor.cc:1015] successful NUMA node read from SysFS had negative value (-1), but there must be at least one NUMA node, so returning NUMA node zero. See more at https://github.com/torvalds/linux/blob/v6.0/Documentation/ABI/testing/sysfs-bus-pci#L344-L355\n",
      "I0000 00:00:1722777395.985542    3321 cuda_executor.cc:1015] successful NUMA node read from SysFS had negative value (-1), but there must be at least one NUMA node, so returning NUMA node zero. See more at https://github.com/torvalds/linux/blob/v6.0/Documentation/ABI/testing/sysfs-bus-pci#L344-L355\n",
      "I0000 00:00:1722777395.985740    3321 cuda_executor.cc:1015] successful NUMA node read from SysFS had negative value (-1), but there must be at least one NUMA node, so returning NUMA node zero. See more at https://github.com/torvalds/linux/blob/v6.0/Documentation/ABI/testing/sysfs-bus-pci#L344-L355\n",
      "I0000 00:00:1722777395.985901    3321 cuda_executor.cc:1015] successful NUMA node read from SysFS had negative value (-1), but there must be at least one NUMA node, so returning NUMA node zero. See more at https://github.com/torvalds/linux/blob/v6.0/Documentation/ABI/testing/sysfs-bus-pci#L344-L355\n",
      "I0000 00:00:1722777395.986010    3321 cuda_executor.cc:1015] successful NUMA node read from SysFS had negative value (-1), but there must be at least one NUMA node, so returning NUMA node zero. See more at https://github.com/torvalds/linux/blob/v6.0/Documentation/ABI/testing/sysfs-bus-pci#L344-L355\n",
      "2024-08-04 15:16:35.986089: I tensorflow/core/common_runtime/gpu/gpu_device.cc:2021] Created device /job:localhost/replica:0/task:0/device:GPU:0 with 4781 MB memory:  -> device: 0, name: NVIDIA GeForce RTX 2060, pci bus id: 0000:01:00.0, compute capability: 7.5\n",
      "I0000 00:00:1722777395.991018    3321 cuda_executor.cc:1015] successful NUMA node read from SysFS had negative value (-1), but there must be at least one NUMA node, so returning NUMA node zero. See more at https://github.com/torvalds/linux/blob/v6.0/Documentation/ABI/testing/sysfs-bus-pci#L344-L355\n",
      "I0000 00:00:1722777395.991148    3321 devices.cc:67] Number of eligible GPUs (core count >= 8, compute capability >= 0.0): 1\n",
      "2024-08-04 15:16:35.991211: I tensorflow/core/grappler/clusters/single_machine.cc:361] Starting new session\n",
      "I0000 00:00:1722777395.991526    3321 cuda_executor.cc:1015] successful NUMA node read from SysFS had negative value (-1), but there must be at least one NUMA node, so returning NUMA node zero. See more at https://github.com/torvalds/linux/blob/v6.0/Documentation/ABI/testing/sysfs-bus-pci#L344-L355\n",
      "I0000 00:00:1722777395.991666    3321 cuda_executor.cc:1015] successful NUMA node read from SysFS had negative value (-1), but there must be at least one NUMA node, so returning NUMA node zero. See more at https://github.com/torvalds/linux/blob/v6.0/Documentation/ABI/testing/sysfs-bus-pci#L344-L355\n",
      "I0000 00:00:1722777395.991768    3321 cuda_executor.cc:1015] successful NUMA node read from SysFS had negative value (-1), but there must be at least one NUMA node, so returning NUMA node zero. See more at https://github.com/torvalds/linux/blob/v6.0/Documentation/ABI/testing/sysfs-bus-pci#L344-L355\n",
      "I0000 00:00:1722777395.991899    3321 cuda_executor.cc:1015] successful NUMA node read from SysFS had negative value (-1), but there must be at least one NUMA node, so returning NUMA node zero. See more at https://github.com/torvalds/linux/blob/v6.0/Documentation/ABI/testing/sysfs-bus-pci#L344-L355\n",
      "I0000 00:00:1722777395.992004    3321 cuda_executor.cc:1015] successful NUMA node read from SysFS had negative value (-1), but there must be at least one NUMA node, so returning NUMA node zero. See more at https://github.com/torvalds/linux/blob/v6.0/Documentation/ABI/testing/sysfs-bus-pci#L344-L355\n",
      "2024-08-04 15:16:35.992078: I tensorflow/core/common_runtime/gpu/gpu_device.cc:2021] Created device /job:localhost/replica:0/task:0/device:GPU:0 with 4781 MB memory:  -> device: 0, name: NVIDIA GeForce RTX 2060, pci bus id: 0000:01:00.0, compute capability: 7.5\n",
      "I0000 00:00:1722777396.029185    3321 cuda_executor.cc:1015] successful NUMA node read from SysFS had negative value (-1), but there must be at least one NUMA node, so returning NUMA node zero. See more at https://github.com/torvalds/linux/blob/v6.0/Documentation/ABI/testing/sysfs-bus-pci#L344-L355\n",
      "I0000 00:00:1722777396.029393    3321 cuda_executor.cc:1015] successful NUMA node read from SysFS had negative value (-1), but there must be at least one NUMA node, so returning NUMA node zero. See more at https://github.com/torvalds/linux/blob/v6.0/Documentation/ABI/testing/sysfs-bus-pci#L344-L355\n",
      "I0000 00:00:1722777396.029502    3321 cuda_executor.cc:1015] successful NUMA node read from SysFS had negative value (-1), but there must be at least one NUMA node, so returning NUMA node zero. See more at https://github.com/torvalds/linux/blob/v6.0/Documentation/ABI/testing/sysfs-bus-pci#L344-L355\n",
      "I0000 00:00:1722777396.029643    3321 cuda_executor.cc:1015] successful NUMA node read from SysFS had negative value (-1), but there must be at least one NUMA node, so returning NUMA node zero. See more at https://github.com/torvalds/linux/blob/v6.0/Documentation/ABI/testing/sysfs-bus-pci#L344-L355\n",
      "I0000 00:00:1722777396.029772    3321 cuda_executor.cc:1015] successful NUMA node read from SysFS had negative value (-1), but there must be at least one NUMA node, so returning NUMA node zero. See more at https://github.com/torvalds/linux/blob/v6.0/Documentation/ABI/testing/sysfs-bus-pci#L344-L355\n",
      "2024-08-04 15:16:36.029850: I tensorflow/core/common_runtime/gpu/gpu_device.cc:2021] Created device /job:localhost/replica:0/task:0/device:GPU:0 with 4781 MB memory:  -> device: 0, name: NVIDIA GeForce RTX 2060, pci bus id: 0000:01:00.0, compute capability: 7.5\n"
     ]
    }
   ],
   "source": [
    "import tensorflow as tf\n",
    "import tf2onnx\n",
    "import onnx\n",
    "\n",
    "model.output_names=['return_series']\n",
    "input_signature = [tf.TensorSpec([None, num_stocks,width], tf.float32)]\n",
    "# Use from_function for tf functions\n",
    "onnx_model, _ = tf2onnx.convert.from_keras(model, input_signature)\n",
    "onnx.save(onnx_model, \"../model/model.onnx\")\n"
   ]
  },
  {
   "cell_type": "code",
   "execution_count": null,
   "metadata": {},
   "outputs": [],
   "source": []
  }
 ],
 "metadata": {
  "kernelspec": {
   "display_name": "base",
   "language": "python",
   "name": "python3"
  },
  "language_info": {
   "codemirror_mode": {
    "name": "ipython",
    "version": 3
   },
   "file_extension": ".py",
   "mimetype": "text/x-python",
   "name": "python",
   "nbconvert_exporter": "python",
   "pygments_lexer": "ipython3",
   "version": "3.11.5"
  }
 },
 "nbformat": 4,
 "nbformat_minor": 2
}

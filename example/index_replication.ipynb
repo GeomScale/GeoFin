{
 "cells": [
  {
   "cell_type": "markdown",
   "metadata": {},
   "source": [
    "# Index replication\n"
   ]
  },
  {
   "cell_type": "markdown",
   "metadata": {},
   "source": [
    "## Overview \n",
    "\n",
    "In finance and invesment, index replication is a popular strategy to construct a portfolio of financial assets that replicates the performance of a specific market index such as S&P 500 or CAC40. The goal is to provide investors with returns that closely match those of the target index. There are two main methods of index replication: full replication and sampling.\n",
    "\n",
    "* __Full replication__ involves buying all the stocks in the same proportion as they are found in the target index. This method ensures that the portfolio closely tracks the index, minimizing tracking errors, which are discrepancies between the fund's performance and the index's performance. Full replication is straightforward and transparent, but it can be costly and complex due to the need to frequently adjust the portfolio to match changes in the index's composition. \n",
    "\n",
    "* __Sampling__, or partial replication, involves selecting a representative sample of securities from the index rather than holding all of them. This method aims to mimic the index's performance while reducing trading costs and complexity. Sampling can lead to higher tracking errors compared to full replication, but it is often more cost-effective and practical."
   ]
  },
  {
   "cell_type": "markdown",
   "metadata": {},
   "source": [
    "## Optimization problem \n",
    "\n",
    "Formally speaking, portfolio construction is a process of of allocating a given capital among a set of assets. The expected return of a portfolio is calculated as the weighted sum of individual asset returns:\n",
    "$$E(X) = \\sum_{i=1}^{n} w_i E(X_i) $$\n",
    "\n",
    "where \n",
    "\n",
    "* $E(X)$ is the expected return of the portfolio\n",
    "* $w_i$ is the weight of asset i in the portfolio\n",
    "* $E(X_i)$ is the expected return of asset i\n",
    "* $n$ is the number of assets in the portfolio\n",
    "\n",
    "One major challenge of porfolio managing is to capture and mitigate the flutuation of market. The variation of asset returns can be formulated by the variance of the corresponding return $X_i$. As a consequent, the variation of portfolio return, also called risk, is taken as \n",
    "$$ Var(X) =  Var (\\sum_{i=1}^{n} w_i E(X_i)) = w \\cdot \\Sigma \\cdot w^T$$\n",
    "\n",
    "The minimization of tracking error may be expressed as a least-squares problem:\n",
    "\n",
    "$$w^* = \\underset{w \\in P}{\\mathrm{argmin}} \\quad ||Xw - y||_2^2$$\n",
    "\n",
    "where \n",
    "\n",
    "* $X \\in \\mathrm{R}^{T \\times n} $ denotes the multivariate time series of asset returns \n",
    "* $y \\in \\mathrm{R}^T$ is the univariate index return series\n",
    "* $||\\cdot||_2^2$ the 2-norm. \n",
    "\n",
    "We tackle this minimization problem using quadratic programming \n",
    "\n",
    "$$ \\min { \\frac{1}{2}} x^T P x + q^T x$$ \n",
    "\n",
    "subject to constraints \n",
    "\n",
    "* $P = 2  ( ({\\log({1 + X}})^T \\cdot \\log{(1 + X)})$\n",
    "* $q = -2 ({\\log{(1 + X)}})^T \\cdot \\log{(1 + y)}$"
   ]
  },
  {
   "cell_type": "code",
   "execution_count": null,
   "metadata": {},
   "outputs": [],
   "source": [
    "import sys\n",
    "import numpy as np\n",
    "import pandas as pd\n",
    "from matplotlib import pyplot as plt\n",
    "import gurobipy as gp\n",
    "\n",
    "sys.path.insert(1, '../src')\n",
    "from backtest import Backtest\n",
    "from data_loader import *\n",
    "from optimization import *\n",
    "from constraints import Constraints\n",
    "from backtest_mutator import BacktestConfig, BacktestMutator\n",
    "\n",
    "import quantstats as qs\n",
    "qs.extend_pandas()"
   ]
  },
  {
   "cell_type": "code",
   "execution_count": null,
   "metadata": {},
   "outputs": [],
   "source": [
    "path = '../data/'  # Change this to your path\n",
    "\n",
    "# Prepare data\n",
    "raw_data = load_data_msci(path)\n",
    "data = {'return_series': raw_data['X'],\n",
    "        'return_series_index': raw_data['y']}\n",
    "\n",
    "# Setup a mutator\n",
    "start_date = '2023-02-01'\n",
    "mutator = BacktestMutator(data, start_date = '2023-01-01', quiet = True)"
   ]
  },
  {
   "cell_type": "code",
   "execution_count": null,
   "metadata": {},
   "outputs": [],
   "source": [
    "universe = data['return_series'].columns\n",
    "constraints = Constraints(selection = universe)\n",
    "constraints.add_budget()\n",
    "constraints.add_box(box_type = 'LongOnly')\n",
    "# Add an unfeasible constraint: Sum of all weights <= -1\n",
    "constraints.add_linear(None, pd.Series(np.ones(universe.size, dtype=float), index=universe), '<=', -1)\n",
    "\n",
    "optimization = LeastSquares(solver_name = 'highs', sparse = True)\n",
    "optimization.constraints = constraints\n",
    "optimization.set_objective(optimization_data = raw_data)\n",
    "\n",
    "optimization.model_qpsolvers()\n",
    "model = optimization.model\n",
    "model.is_feasible()"
   ]
  }
 ],
 "metadata": {
  "language_info": {
   "name": "python"
  }
 },
 "nbformat": 4,
 "nbformat_minor": 2
}
